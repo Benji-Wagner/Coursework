{
 "cells": [
  {
   "cell_type": "markdown",
   "metadata": {},
   "source": [
    "# Predicting Obesity Using BMI Trajectories from EHR Data\n",
    "##### By: Benji Wagner"
   ]
  },
  {
   "cell_type": "markdown",
   "metadata": {},
   "source": [
    "This notebook aims to use weight, height, and other patient demographic information to answer the question: Can we use weight trajectories to predict obesity status of patients?\n",
    "\n",
    "These EHRs are taken from a hospital database and is a child dataset (i.e. all patients in these tables are < 18 years old). I've purposely decided not to show any output out of concern of revealing patient-identifiable information. However, I wanted to demonstrate my ability to work with messy data rather than the usual clean datasets I tend to find on Kaggle or other sites."
   ]
  },
  {
   "cell_type": "markdown",
   "metadata": {},
   "source": [
    "### Reading Datasets"
   ]
  },
  {
   "cell_type": "code",
   "execution_count": 462,
   "metadata": {},
   "outputs": [
    {
     "name": "stdout",
     "output_type": "stream",
     "text": [
      "ADDRESS.csv\t     DEMOGRAPHICS.csv  LABS.csv\t\t\tPAYOR.csv\r\n",
      "DataDictionary.csv   DIAGNOSIS.csv     MEDS_PRESCRIBING.csv\tPROCEDURES.csv\r\n",
      "DataDictionary.xlsx  ENCOUNTER.csv     MEDS_RECONCILIATION.csv\tVITALS.csv\r\n"
     ]
    }
   ],
   "source": [
    "!ls /dcri/cpm/projects/Biostat824/DATA"
   ]
  },
  {
   "cell_type": "code",
   "execution_count": 461,
   "metadata": {},
   "outputs": [],
   "source": [
    "from IPython.display import HTML"
   ]
  },
  {
   "cell_type": "code",
   "execution_count": 362,
   "metadata": {},
   "outputs": [],
   "source": [
    "import pandas as pd\n",
    "import numpy as np\n",
    "import matplotlib.pyplot as plt\n",
    "from sklearn.model_selection import train_test_split\n",
    "from sklearn.linear_model import LogisticRegressionCV, LassoCV\n",
    "from sklearn.metrics import roc_curve, roc_auc_score, confusion_matri\n",
    "from sklearn.preprocessing import StandardScaler\n",
    "from sklearn.ensemble import RandomForestClassifier"
   ]
  },
  {
   "cell_type": "markdown",
   "metadata": {},
   "source": [
    "Below is the data dictionary with all the variables as well as their table source listed"
   ]
  },
  {
   "cell_type": "code",
   "execution_count": 2,
   "metadata": {},
   "outputs": [
    {
     "data": {
      "text/html": [
       "<div>\n",
       "<style>\n",
       "    .dataframe thead tr:only-child th {\n",
       "        text-align: right;\n",
       "    }\n",
       "\n",
       "    .dataframe thead th {\n",
       "        text-align: left;\n",
       "    }\n",
       "\n",
       "    .dataframe tbody tr th {\n",
       "        vertical-align: top;\n",
       "    }\n",
       "</style>\n",
       "<table border=\"1\" class=\"dataframe\">\n",
       "  <thead>\n",
       "    <tr style=\"text-align: right;\">\n",
       "      <th></th>\n",
       "      <th>Unnamed: 0</th>\n",
       "      <th>Data Element</th>\n",
       "      <th>Source</th>\n",
       "      <th>Description</th>\n",
       "    </tr>\n",
       "  </thead>\n",
       "  <tbody>\n",
       "    <tr>\n",
       "      <th>0</th>\n",
       "      <td>Shared Fields</td>\n",
       "      <td>PATID</td>\n",
       "      <td>NaN</td>\n",
       "      <td>Patient Identifier</td>\n",
       "    </tr>\n",
       "    <tr>\n",
       "      <th>1</th>\n",
       "      <td>NaN</td>\n",
       "      <td>ENCOUNTERID</td>\n",
       "      <td>NaN</td>\n",
       "      <td>Encounter Identifier</td>\n",
       "    </tr>\n",
       "    <tr>\n",
       "      <th>2</th>\n",
       "      <td>NaN</td>\n",
       "      <td>ADMIT_DATE</td>\n",
       "      <td>NaN</td>\n",
       "      <td>Date of Admission</td>\n",
       "    </tr>\n",
       "    <tr>\n",
       "      <th>3</th>\n",
       "      <td>NaN</td>\n",
       "      <td>DISCHARGE_DATE</td>\n",
       "      <td>NaN</td>\n",
       "      <td>Encounter Discharge Date</td>\n",
       "    </tr>\n",
       "    <tr>\n",
       "      <th>4</th>\n",
       "      <td>Unique Fields</td>\n",
       "      <td>ADDRESS_TYPE</td>\n",
       "      <td>ADDRESS</td>\n",
       "      <td>Mailing or Residence Address</td>\n",
       "    </tr>\n",
       "    <tr>\n",
       "      <th>5</th>\n",
       "      <td>NaN</td>\n",
       "      <td>PATADDR_EFFECTIVE_DATE</td>\n",
       "      <td>ADDRESS</td>\n",
       "      <td>Effective Start Date</td>\n",
       "    </tr>\n",
       "    <tr>\n",
       "      <th>6</th>\n",
       "      <td>NaN</td>\n",
       "      <td>PATTADDR_EXPIRATION_DATE</td>\n",
       "      <td>ADDRESS</td>\n",
       "      <td>Effective End Date</td>\n",
       "    </tr>\n",
       "    <tr>\n",
       "      <th>7</th>\n",
       "      <td>NaN</td>\n",
       "      <td>CITY</td>\n",
       "      <td>ADDRESS</td>\n",
       "      <td>City</td>\n",
       "    </tr>\n",
       "    <tr>\n",
       "      <th>8</th>\n",
       "      <td>NaN</td>\n",
       "      <td>COUNTY</td>\n",
       "      <td>ADDRESS</td>\n",
       "      <td>County</td>\n",
       "    </tr>\n",
       "    <tr>\n",
       "      <th>9</th>\n",
       "      <td>NaN</td>\n",
       "      <td>STATE</td>\n",
       "      <td>ADDRESS</td>\n",
       "      <td>State</td>\n",
       "    </tr>\n",
       "    <tr>\n",
       "      <th>10</th>\n",
       "      <td>NaN</td>\n",
       "      <td>STD_ZIP</td>\n",
       "      <td>ADDRESS</td>\n",
       "      <td>Zip Code</td>\n",
       "    </tr>\n",
       "    <tr>\n",
       "      <th>11</th>\n",
       "      <td>NaN</td>\n",
       "      <td>GEO_BLOCKGRP_FIPS_CODE</td>\n",
       "      <td>ADDRESS</td>\n",
       "      <td>Census Block Group</td>\n",
       "    </tr>\n",
       "    <tr>\n",
       "      <th>12</th>\n",
       "      <td>NaN</td>\n",
       "      <td>GEO_BLOCK_FIPS_CODE</td>\n",
       "      <td>ADDRESS</td>\n",
       "      <td>Census Block</td>\n",
       "    </tr>\n",
       "    <tr>\n",
       "      <th>13</th>\n",
       "      <td>NaN</td>\n",
       "      <td>BIRTH_DATE</td>\n",
       "      <td>DEMOGRAPHICS</td>\n",
       "      <td>Birth date</td>\n",
       "    </tr>\n",
       "    <tr>\n",
       "      <th>14</th>\n",
       "      <td>NaN</td>\n",
       "      <td>SEX</td>\n",
       "      <td>DEMOGRAPHICS</td>\n",
       "      <td>Sex</td>\n",
       "    </tr>\n",
       "    <tr>\n",
       "      <th>15</th>\n",
       "      <td>NaN</td>\n",
       "      <td>HISPANIC</td>\n",
       "      <td>DEMOGRAPHICS</td>\n",
       "      <td>Hispanic. Y = Yes; N = No; NI = Not Included; ...</td>\n",
       "    </tr>\n",
       "    <tr>\n",
       "      <th>16</th>\n",
       "      <td>NaN</td>\n",
       "      <td>RACE</td>\n",
       "      <td>DEMOGRAPHICS</td>\n",
       "      <td>Race</td>\n",
       "    </tr>\n",
       "    <tr>\n",
       "      <th>17</th>\n",
       "      <td>NaN</td>\n",
       "      <td>DX</td>\n",
       "      <td>DIAGNOSIS</td>\n",
       "      <td>Diagnosis Code</td>\n",
       "    </tr>\n",
       "    <tr>\n",
       "      <th>18</th>\n",
       "      <td>NaN</td>\n",
       "      <td>DX_TYPE</td>\n",
       "      <td>DIAGNOSIS</td>\n",
       "      <td>Diagnosis Coding type: ICD-09 or ICD-10</td>\n",
       "    </tr>\n",
       "    <tr>\n",
       "      <th>19</th>\n",
       "      <td>NaN</td>\n",
       "      <td>PDX</td>\n",
       "      <td>DIAGNOSIS</td>\n",
       "      <td>Primary Diagnosis Code. P = Primary; S= Second...</td>\n",
       "    </tr>\n",
       "    <tr>\n",
       "      <th>20</th>\n",
       "      <td>NaN</td>\n",
       "      <td>RAW_SEDI_DIAGNOSIS_NAME</td>\n",
       "      <td>DIAGNOSIS</td>\n",
       "      <td>Diagnosis Name</td>\n",
       "    </tr>\n",
       "    <tr>\n",
       "      <th>21</th>\n",
       "      <td>NaN</td>\n",
       "      <td>RAW_SEDI_CODING_CONTEXT_DESC</td>\n",
       "      <td>DIAGNOSIS</td>\n",
       "      <td>Coding Context. Billing vs medical record</td>\n",
       "    </tr>\n",
       "    <tr>\n",
       "      <th>22</th>\n",
       "      <td>NaN</td>\n",
       "      <td>ENC_TYPE</td>\n",
       "      <td>ENCOUNTER</td>\n",
       "      <td>Encounter Type. AV = Ambulatory Visit, OT = Ou...</td>\n",
       "    </tr>\n",
       "    <tr>\n",
       "      <th>23</th>\n",
       "      <td>NaN</td>\n",
       "      <td>FACILITYID</td>\n",
       "      <td>ENCOUNTER</td>\n",
       "      <td>Facility ID</td>\n",
       "    </tr>\n",
       "    <tr>\n",
       "      <th>24</th>\n",
       "      <td>NaN</td>\n",
       "      <td>RAW_SEDI_ADMIT_PROV_SPECIALTY</td>\n",
       "      <td>ENCOUNTER</td>\n",
       "      <td>Provider Specialty</td>\n",
       "    </tr>\n",
       "    <tr>\n",
       "      <th>25</th>\n",
       "      <td>NaN</td>\n",
       "      <td>RAW_SEDI_CLINIC_DEPT</td>\n",
       "      <td>ENCOUNTER</td>\n",
       "      <td>Clinic Department</td>\n",
       "    </tr>\n",
       "    <tr>\n",
       "      <th>26</th>\n",
       "      <td>NaN</td>\n",
       "      <td>RAW_SEDI_CLINIC_SVC_SPECIALTY</td>\n",
       "      <td>ENCOUNTER</td>\n",
       "      <td>Clinic Specialty</td>\n",
       "    </tr>\n",
       "    <tr>\n",
       "      <th>27</th>\n",
       "      <td>NaN</td>\n",
       "      <td>RAW_SEDI_CLINIC_VISIT_TYPE</td>\n",
       "      <td>ENCOUNTER</td>\n",
       "      <td>Visit Type</td>\n",
       "    </tr>\n",
       "    <tr>\n",
       "      <th>28</th>\n",
       "      <td>NaN</td>\n",
       "      <td>RESULT_DATE</td>\n",
       "      <td>LABS</td>\n",
       "      <td>Lab Date</td>\n",
       "    </tr>\n",
       "    <tr>\n",
       "      <th>29</th>\n",
       "      <td>NaN</td>\n",
       "      <td>RESULT_NUM</td>\n",
       "      <td>LABS</td>\n",
       "      <td>Lab Result (numeric value)</td>\n",
       "    </tr>\n",
       "    <tr>\n",
       "      <th>30</th>\n",
       "      <td>NaN</td>\n",
       "      <td>RAW_LAB_NAME</td>\n",
       "      <td>LABS</td>\n",
       "      <td>Lab Name</td>\n",
       "    </tr>\n",
       "    <tr>\n",
       "      <th>31</th>\n",
       "      <td>NaN</td>\n",
       "      <td>RAW_LAB_CODE</td>\n",
       "      <td>LABS</td>\n",
       "      <td>Lab Code</td>\n",
       "    </tr>\n",
       "    <tr>\n",
       "      <th>32</th>\n",
       "      <td>NaN</td>\n",
       "      <td>RAW_RESULT</td>\n",
       "      <td>LABS</td>\n",
       "      <td>Lab Result (raw value)</td>\n",
       "    </tr>\n",
       "    <tr>\n",
       "      <th>33</th>\n",
       "      <td>NaN</td>\n",
       "      <td>RAW_UNIT</td>\n",
       "      <td>LABS</td>\n",
       "      <td>Lab Unit</td>\n",
       "    </tr>\n",
       "    <tr>\n",
       "      <th>34</th>\n",
       "      <td>NaN</td>\n",
       "      <td>RX_ORDER_DATE</td>\n",
       "      <td>MEDS_PRESCRIBING</td>\n",
       "      <td>Medication Order Date</td>\n",
       "    </tr>\n",
       "    <tr>\n",
       "      <th>35</th>\n",
       "      <td>NaN</td>\n",
       "      <td>RX_START_DATE</td>\n",
       "      <td>MEDS_PRESCRIBING</td>\n",
       "      <td>Medication Start Date</td>\n",
       "    </tr>\n",
       "    <tr>\n",
       "      <th>36</th>\n",
       "      <td>NaN</td>\n",
       "      <td>RX_END_DATE</td>\n",
       "      <td>MEDS_PRESCRIBING</td>\n",
       "      <td>Medication End Date</td>\n",
       "    </tr>\n",
       "    <tr>\n",
       "      <th>37</th>\n",
       "      <td>NaN</td>\n",
       "      <td>RAW_RX_MED_NAME</td>\n",
       "      <td>MEDS_PRESCRIBING</td>\n",
       "      <td>Medication Name</td>\n",
       "    </tr>\n",
       "    <tr>\n",
       "      <th>38</th>\n",
       "      <td>NaN</td>\n",
       "      <td>RAW_SEDI_BRAND_NAME</td>\n",
       "      <td>MEDS_PRESCRIBING</td>\n",
       "      <td>Brand Name</td>\n",
       "    </tr>\n",
       "    <tr>\n",
       "      <th>39</th>\n",
       "      <td>NaN</td>\n",
       "      <td>RAW_SEDI_DUKE_THERAPEUT_CLASS</td>\n",
       "      <td>MEDS_PRESCRIBING</td>\n",
       "      <td>Therapeutic Class</td>\n",
       "    </tr>\n",
       "    <tr>\n",
       "      <th>40</th>\n",
       "      <td>NaN</td>\n",
       "      <td>RAW_SEDI_ADMINISTRATION_ROUT</td>\n",
       "      <td>MEDS_PRESCRIBING</td>\n",
       "      <td>Administration Routh</td>\n",
       "    </tr>\n",
       "    <tr>\n",
       "      <th>41</th>\n",
       "      <td>NaN</td>\n",
       "      <td>RAW_SEDI_DRUG_STRENGTH</td>\n",
       "      <td>MEDS_PRESCRIBING</td>\n",
       "      <td>Drug Strength</td>\n",
       "    </tr>\n",
       "    <tr>\n",
       "      <th>42</th>\n",
       "      <td>NaN</td>\n",
       "      <td>RX_REVIEW_DATE</td>\n",
       "      <td>MEDS_RECONCILIATION</td>\n",
       "      <td>Medication Review Date</td>\n",
       "    </tr>\n",
       "    <tr>\n",
       "      <th>43</th>\n",
       "      <td>NaN</td>\n",
       "      <td>MEDICATION_NAME</td>\n",
       "      <td>MEDS_RECONCILIATION</td>\n",
       "      <td>Medication Name</td>\n",
       "    </tr>\n",
       "    <tr>\n",
       "      <th>44</th>\n",
       "      <td>NaN</td>\n",
       "      <td>TAKING_YN</td>\n",
       "      <td>MEDS_RECONCILIATION</td>\n",
       "      <td>Taking Medication: Yes/No</td>\n",
       "    </tr>\n",
       "    <tr>\n",
       "      <th>45</th>\n",
       "      <td>NaN</td>\n",
       "      <td>PAYOR1_CODE</td>\n",
       "      <td>PAYOR</td>\n",
       "      <td>Payor Code</td>\n",
       "    </tr>\n",
       "    <tr>\n",
       "      <th>46</th>\n",
       "      <td>NaN</td>\n",
       "      <td>PAYOR1_DESC</td>\n",
       "      <td>PAYOR</td>\n",
       "      <td>Payor Description</td>\n",
       "    </tr>\n",
       "    <tr>\n",
       "      <th>47</th>\n",
       "      <td>NaN</td>\n",
       "      <td>PX_DATE</td>\n",
       "      <td>PROCEDURES</td>\n",
       "      <td>Procedure Date</td>\n",
       "    </tr>\n",
       "    <tr>\n",
       "      <th>48</th>\n",
       "      <td>NaN</td>\n",
       "      <td>PX</td>\n",
       "      <td>PROCEDURES</td>\n",
       "      <td>Procedure Code</td>\n",
       "    </tr>\n",
       "    <tr>\n",
       "      <th>49</th>\n",
       "      <td>NaN</td>\n",
       "      <td>PX_TYPE</td>\n",
       "      <td>PROCEDURES</td>\n",
       "      <td>Procedure Type.  09 = ICD-09 Procedure; 10 = I...</td>\n",
       "    </tr>\n",
       "    <tr>\n",
       "      <th>50</th>\n",
       "      <td>NaN</td>\n",
       "      <td>MEASURE_DATE</td>\n",
       "      <td>VITALS</td>\n",
       "      <td>Vital Date</td>\n",
       "    </tr>\n",
       "    <tr>\n",
       "      <th>51</th>\n",
       "      <td>NaN</td>\n",
       "      <td>HT</td>\n",
       "      <td>VITALS</td>\n",
       "      <td>Height, inches</td>\n",
       "    </tr>\n",
       "    <tr>\n",
       "      <th>52</th>\n",
       "      <td>NaN</td>\n",
       "      <td>WT</td>\n",
       "      <td>VITALS</td>\n",
       "      <td>Weight, Lbs</td>\n",
       "    </tr>\n",
       "    <tr>\n",
       "      <th>53</th>\n",
       "      <td>NaN</td>\n",
       "      <td>DIASTOLIC</td>\n",
       "      <td>VITALS</td>\n",
       "      <td>Diastolic, mmHg</td>\n",
       "    </tr>\n",
       "    <tr>\n",
       "      <th>54</th>\n",
       "      <td>NaN</td>\n",
       "      <td>SYSTOLIC</td>\n",
       "      <td>VITALS</td>\n",
       "      <td>Systolic, mmHg</td>\n",
       "    </tr>\n",
       "  </tbody>\n",
       "</table>\n",
       "</div>"
      ],
      "text/plain": [
       "       Unnamed: 0                   Data Element               Source  \\\n",
       "0   Shared Fields                          PATID                  NaN   \n",
       "1             NaN                    ENCOUNTERID                  NaN   \n",
       "2             NaN                     ADMIT_DATE                  NaN   \n",
       "3             NaN                 DISCHARGE_DATE                  NaN   \n",
       "4   Unique Fields                   ADDRESS_TYPE              ADDRESS   \n",
       "5             NaN         PATADDR_EFFECTIVE_DATE              ADDRESS   \n",
       "6             NaN       PATTADDR_EXPIRATION_DATE              ADDRESS   \n",
       "7             NaN                           CITY              ADDRESS   \n",
       "8             NaN                         COUNTY              ADDRESS   \n",
       "9             NaN                          STATE              ADDRESS   \n",
       "10            NaN                        STD_ZIP              ADDRESS   \n",
       "11            NaN         GEO_BLOCKGRP_FIPS_CODE              ADDRESS   \n",
       "12            NaN            GEO_BLOCK_FIPS_CODE              ADDRESS   \n",
       "13            NaN                     BIRTH_DATE         DEMOGRAPHICS   \n",
       "14            NaN                            SEX         DEMOGRAPHICS   \n",
       "15            NaN                       HISPANIC         DEMOGRAPHICS   \n",
       "16            NaN                           RACE         DEMOGRAPHICS   \n",
       "17            NaN                             DX            DIAGNOSIS   \n",
       "18            NaN                        DX_TYPE            DIAGNOSIS   \n",
       "19            NaN                            PDX            DIAGNOSIS   \n",
       "20            NaN        RAW_SEDI_DIAGNOSIS_NAME            DIAGNOSIS   \n",
       "21            NaN   RAW_SEDI_CODING_CONTEXT_DESC            DIAGNOSIS   \n",
       "22            NaN                       ENC_TYPE            ENCOUNTER   \n",
       "23            NaN                     FACILITYID            ENCOUNTER   \n",
       "24            NaN  RAW_SEDI_ADMIT_PROV_SPECIALTY            ENCOUNTER   \n",
       "25            NaN           RAW_SEDI_CLINIC_DEPT            ENCOUNTER   \n",
       "26            NaN  RAW_SEDI_CLINIC_SVC_SPECIALTY            ENCOUNTER   \n",
       "27            NaN     RAW_SEDI_CLINIC_VISIT_TYPE            ENCOUNTER   \n",
       "28            NaN                    RESULT_DATE                 LABS   \n",
       "29            NaN                     RESULT_NUM                 LABS   \n",
       "30            NaN                   RAW_LAB_NAME                 LABS   \n",
       "31            NaN                   RAW_LAB_CODE                 LABS   \n",
       "32            NaN                     RAW_RESULT                 LABS   \n",
       "33            NaN                       RAW_UNIT                 LABS   \n",
       "34            NaN                  RX_ORDER_DATE     MEDS_PRESCRIBING   \n",
       "35            NaN                  RX_START_DATE     MEDS_PRESCRIBING   \n",
       "36            NaN                    RX_END_DATE     MEDS_PRESCRIBING   \n",
       "37            NaN                RAW_RX_MED_NAME     MEDS_PRESCRIBING   \n",
       "38            NaN            RAW_SEDI_BRAND_NAME     MEDS_PRESCRIBING   \n",
       "39            NaN  RAW_SEDI_DUKE_THERAPEUT_CLASS     MEDS_PRESCRIBING   \n",
       "40            NaN   RAW_SEDI_ADMINISTRATION_ROUT     MEDS_PRESCRIBING   \n",
       "41            NaN         RAW_SEDI_DRUG_STRENGTH     MEDS_PRESCRIBING   \n",
       "42            NaN                 RX_REVIEW_DATE  MEDS_RECONCILIATION   \n",
       "43            NaN                MEDICATION_NAME  MEDS_RECONCILIATION   \n",
       "44            NaN                      TAKING_YN  MEDS_RECONCILIATION   \n",
       "45            NaN                    PAYOR1_CODE                PAYOR   \n",
       "46            NaN                    PAYOR1_DESC                PAYOR   \n",
       "47            NaN                        PX_DATE           PROCEDURES   \n",
       "48            NaN                             PX           PROCEDURES   \n",
       "49            NaN                        PX_TYPE           PROCEDURES   \n",
       "50            NaN                   MEASURE_DATE               VITALS   \n",
       "51            NaN                             HT               VITALS   \n",
       "52            NaN                             WT               VITALS   \n",
       "53            NaN                      DIASTOLIC               VITALS   \n",
       "54            NaN                       SYSTOLIC               VITALS   \n",
       "\n",
       "                                          Description  \n",
       "0                                  Patient Identifier  \n",
       "1                                Encounter Identifier  \n",
       "2                                   Date of Admission  \n",
       "3                            Encounter Discharge Date  \n",
       "4                        Mailing or Residence Address  \n",
       "5                                Effective Start Date  \n",
       "6                                  Effective End Date  \n",
       "7                                                City  \n",
       "8                                              County  \n",
       "9                                               State  \n",
       "10                                           Zip Code  \n",
       "11                                 Census Block Group  \n",
       "12                                       Census Block  \n",
       "13                                         Birth date  \n",
       "14                                                Sex  \n",
       "15  Hispanic. Y = Yes; N = No; NI = Not Included; ...  \n",
       "16                                               Race  \n",
       "17                                     Diagnosis Code  \n",
       "18            Diagnosis Coding type: ICD-09 or ICD-10  \n",
       "19  Primary Diagnosis Code. P = Primary; S= Second...  \n",
       "20                                     Diagnosis Name  \n",
       "21          Coding Context. Billing vs medical record  \n",
       "22  Encounter Type. AV = Ambulatory Visit, OT = Ou...  \n",
       "23                                        Facility ID  \n",
       "24                                 Provider Specialty  \n",
       "25                                  Clinic Department  \n",
       "26                                   Clinic Specialty  \n",
       "27                                         Visit Type  \n",
       "28                                           Lab Date  \n",
       "29                         Lab Result (numeric value)  \n",
       "30                                           Lab Name  \n",
       "31                                           Lab Code  \n",
       "32                             Lab Result (raw value)  \n",
       "33                                           Lab Unit  \n",
       "34                              Medication Order Date  \n",
       "35                              Medication Start Date  \n",
       "36                                Medication End Date  \n",
       "37                                    Medication Name  \n",
       "38                                         Brand Name  \n",
       "39                                  Therapeutic Class  \n",
       "40                               Administration Routh  \n",
       "41                                      Drug Strength  \n",
       "42                             Medication Review Date  \n",
       "43                                    Medication Name  \n",
       "44                          Taking Medication: Yes/No  \n",
       "45                                         Payor Code  \n",
       "46                                  Payor Description  \n",
       "47                                     Procedure Date  \n",
       "48                                     Procedure Code  \n",
       "49  Procedure Type.  09 = ICD-09 Procedure; 10 = I...  \n",
       "50                                         Vital Date  \n",
       "51                                     Height, inches  \n",
       "52                                        Weight, Lbs  \n",
       "53                                    Diastolic, mmHg  \n",
       "54                                     Systolic, mmHg  "
      ]
     },
     "execution_count": 2,
     "metadata": {},
     "output_type": "execute_result"
    }
   ],
   "source": [
    "pd.read_csv(\"/dcri/cpm/projects/Biostat824/DATA/DataDictionary.csv\")"
   ]
  },
  {
   "cell_type": "code",
   "execution_count": 3,
   "metadata": {},
   "outputs": [],
   "source": [
    "vitals = pd.read_csv(\"/dcri/cpm/projects/Biostat824/DATA/VITALS.csv\")\n",
    "# Remove non-sense case of height\n",
    "vitals = vitals[vitals.HT != 0]"
   ]
  },
  {
   "cell_type": "markdown",
   "metadata": {},
   "source": [
    "`Vitals` contains the height and weight variables, which we are particularly interested in so we can calculate BMI. However, each row corresponds to a measurement and not to a unique patient. This means that even for a single visit, we may see one row with the patient ID and their height, another measurement from the same day/time with the patient ID and their blood pressure, etc. Thus, this data will need to be processed in order to consolidate information by patient as well as by visit date."
   ]
  },
  {
   "cell_type": "code",
   "execution_count": 4,
   "metadata": {},
   "outputs": [
    {
     "name": "stderr",
     "output_type": "stream",
     "text": [
      "/opt/local/anaconda3/lib/python3.6/site-packages/IPython/core/interactiveshell.py:2717: DtypeWarning: Columns (4) have mixed types. Specify dtype option on import or set low_memory=False.\n",
      "  interactivity=interactivity, compiler=compiler, result=result)\n"
     ]
    }
   ],
   "source": [
    "diagnosis = pd.read_csv(\"/dcri/cpm/projects/Biostat824/DATA/DIAGNOSIS.csv\")"
   ]
  },
  {
   "cell_type": "markdown",
   "metadata": {},
   "source": [
    "### Data Pre-Processing"
   ]
  },
  {
   "cell_type": "markdown",
   "metadata": {},
   "source": [
    "Define a simple function to convert height and weight to BMI"
   ]
  },
  {
   "cell_type": "code",
   "execution_count": 6,
   "metadata": {},
   "outputs": [],
   "source": [
    "def calculate_bmi(height, weight):\n",
    "    \"\"\"calculate_bmi takes a height in inches and a weight in pounds, converts to meters and kilograms appropriately,\n",
    "    and then calculates BMI\"\"\"\n",
    "    return (weight/2.2046) / ((height/39.37)**2)"
   ]
  },
  {
   "cell_type": "markdown",
   "metadata": {},
   "source": [
    "Convert measure_data to datetime so we can sort correctly"
   ]
  },
  {
   "cell_type": "code",
   "execution_count": 7,
   "metadata": {},
   "outputs": [],
   "source": [
    "vitals[[\"MEASURE_DATE\"]] = pd.to_datetime(vitals.MEASURE_DATE, format = \"%d%b%Y:%H:%M:%S\")"
   ]
  },
  {
   "cell_type": "markdown",
   "metadata": {},
   "source": [
    "Drop rows without a height or weight measurement."
   ]
  },
  {
   "cell_type": "code",
   "execution_count": 10,
   "metadata": {},
   "outputs": [],
   "source": [
    "vitals = vitals.dropna(how = 'all', subset = ['HT', 'WT'])"
   ]
  },
  {
   "cell_type": "markdown",
   "metadata": {},
   "source": [
    "For this analysis, we are not looking at blood pressure, so we're going to drop these columns"
   ]
  },
  {
   "cell_type": "code",
   "execution_count": 30,
   "metadata": {},
   "outputs": [],
   "source": [
    "vitals = vitals.drop(labels = [\"DIASTOLIC\", \"SYSTOLIC\"], axis = 1)"
   ]
  },
  {
   "cell_type": "markdown",
   "metadata": {},
   "source": [
    "We want patients who have at least one height measurement and one weight measurement\n",
    "since we don't want to make assumptions about what their missing height/weight is\n",
    "when imputing"
   ]
  },
  {
   "cell_type": "code",
   "execution_count": 41,
   "metadata": {},
   "outputs": [],
   "source": [
    "valid_PATIDs = vitals.groupby(\"PATID\").count()[(vitals.groupby(\"PATID\").count().HT > 0) & (vitals.groupby(\"PATID\").count().WT > 0)].index"
   ]
  },
  {
   "cell_type": "code",
   "execution_count": 44,
   "metadata": {},
   "outputs": [],
   "source": [
    "vitals = vitals[vitals.PATID.isin(valid_PATIDs)]"
   ]
  },
  {
   "cell_type": "markdown",
   "metadata": {},
   "source": [
    "Filter so that only obesity diagnoses obtained"
   ]
  },
  {
   "cell_type": "code",
   "execution_count": 27,
   "metadata": {},
   "outputs": [],
   "source": [
    "obesity_table = diagnosis[(diagnosis.DX.str.startswith(\"E66\", na = False)) | diagnosis.DX.str.startswith(\"278\", na = False)]"
   ]
  },
  {
   "cell_type": "markdown",
   "metadata": {},
   "source": [
    "Combine labels with vitals"
   ]
  },
  {
   "cell_type": "code",
   "execution_count": 97,
   "metadata": {},
   "outputs": [],
   "source": [
    "vitals_obesity = obesity_table[['PATID', 'DX']].join(vitals.set_index('PATID'), how = 'right', on = \"PATID\")"
   ]
  },
  {
   "cell_type": "markdown",
   "metadata": {},
   "source": [
    "Add obesity labels\n",
    "\n",
    "Note: Instead of differentiating between levels of obesity, we are using a simple approach and just labeling them all as obese. If DX is missing, then these patients weren't diagnosed with obesity and get a negative label. Otherwise, they get a positive label."
   ]
  },
  {
   "cell_type": "code",
   "execution_count": 98,
   "metadata": {},
   "outputs": [],
   "source": [
    "vitals_obesity = vitals_obesity.assign(Obesity = np.repeat(1, vitals_obesity.shape[0]))\n",
    "vitals_obesity.loc[vitals_obesity.DX.isnull(), \"Obesity\"] = 0\n",
    "vitals_obesity = vitals_obesity.drop(labels = [\"DX\"], axis = 1)"
   ]
  },
  {
   "cell_type": "markdown",
   "metadata": {},
   "source": [
    "Sort by Patient, then by Measure_Date"
   ]
  },
  {
   "cell_type": "code",
   "execution_count": 99,
   "metadata": {},
   "outputs": [],
   "source": [
    "vitals_obesity.sort_values(by = [\"PATID\", \"MEASURE_DATE\"], inplace = True)"
   ]
  },
  {
   "cell_type": "markdown",
   "metadata": {},
   "source": [
    "Consolidate height and weight measurements"
   ]
  },
  {
   "cell_type": "code",
   "execution_count": 100,
   "metadata": {},
   "outputs": [],
   "source": [
    "vitals_obesity = vitals_obesity.groupby([\"PATID\", \"MEASURE_DATE\"]).mean().reset_index()"
   ]
  },
  {
   "cell_type": "markdown",
   "metadata": {},
   "source": [
    "Interpolates missing values by using the values that it's bounded within, by patient.\n",
    "\n",
    "Note: I had to group by the PATID values so that the resulting table wouldn't drop the PATID column"
   ]
  },
  {
   "cell_type": "code",
   "execution_count": 102,
   "metadata": {},
   "outputs": [],
   "source": [
    "vitals_obesity = vitals_obesity.groupby(vitals_obesity.PATID.values).transform(lambda group: group.interpolate(limit_direction = \"both\"))"
   ]
  },
  {
   "cell_type": "markdown",
   "metadata": {},
   "source": [
    "Even after using interpolation to fill in missing values, we still have 63464 missing values. This is because interpolate doesn't work for missing values on the boundaries. Therefore, we can fill in these missing values using backward fill followed by forward fill."
   ]
  },
  {
   "cell_type": "code",
   "execution_count": 118,
   "metadata": {},
   "outputs": [],
   "source": [
    "# Pad the missing values in the first/last visits\n",
    "vitals_obesity.HT = vitals_obesity.groupby(vitals_obesity.PATID.values).HT.fillna(method = \"bfill\")\n",
    "vitals_obesity.HT = vitals_obesity.groupby(vitals_obesity.PATID.values).HT.fillna(method = \"ffill\")\n",
    "vitals_obesity.WT = vitals_obesity.groupby(vitals_obesity.PATID.values).WT.fillna(method = \"bfill\")\n",
    "vitals_obesity.WT = vitals_obesity.groupby(vitals_obesity.PATID.values).WT.fillna(method = \"ffill\")"
   ]
  },
  {
   "cell_type": "code",
   "execution_count": 123,
   "metadata": {},
   "outputs": [],
   "source": [
    "# Calculate BMI of each patient at each time\n",
    "vitals_obesity[\"BMI\"] = vitals_obesity.apply(lambda row: calculate_bmi(row['HT'], row['WT']), axis = 1)"
   ]
  },
  {
   "cell_type": "markdown",
   "metadata": {},
   "source": [
    "### Checkpoint"
   ]
  },
  {
   "cell_type": "code",
   "execution_count": 124,
   "metadata": {},
   "outputs": [],
   "source": [
    "vitals_obesity.to_pickle(\"/dcri/cpm/projects/Biostat824/USERS/Benji/output/vitals_obesity.pkl\")"
   ]
  },
  {
   "cell_type": "markdown",
   "metadata": {},
   "source": [
    "While there are a large number of options to handle the longitudinal nature of this data, I think the simplest method is to simply fit a polynomial curve to each patient's BMI, and then use the $\\beta$ coefficients as predictors instead.\n",
    "\n",
    "For this example, we will make a **strong** assumption by claiming that the BMI trajectories are linear."
   ]
  },
  {
   "cell_type": "markdown",
   "metadata": {},
   "source": [
    "We have 289320 patients with a calculated BMI. We have 207627 patients with more than one BMI measurement."
   ]
  },
  {
   "cell_type": "code",
   "execution_count": 215,
   "metadata": {},
   "outputs": [],
   "source": [
    "vitals_obesity = pd.read_pickle(\"/dcri/cpm/projects/Biostat824/USERS/Benji/output/vitals_obesity.pkl\")"
   ]
  },
  {
   "cell_type": "markdown",
   "metadata": {},
   "source": [
    "Now that we've done our pre-processing, it's time to attempt to use patient BMI trajectories as predictors."
   ]
  },
  {
   "cell_type": "code",
   "execution_count": 216,
   "metadata": {},
   "outputs": [],
   "source": [
    "repeated_patients = vitals_obesity.groupby(\"PATID\").count()[(vitals_obesity.groupby(\"PATID\").BMI.count() > 1)].index.values\n",
    "vitals_obesity = vitals_obesity[vitals_obesity.PATID.isin(repeated_patients)]"
   ]
  },
  {
   "cell_type": "markdown",
   "metadata": {},
   "source": [
    "Fit line to every patient's BMI's. Need at least two points."
   ]
  },
  {
   "cell_type": "code",
   "execution_count": 158,
   "metadata": {},
   "outputs": [],
   "source": [
    "intercept_slope = vitals_obesity.groupby(\"PATID\").apply(lambda group: np.polyfit(pd.to_numeric(group.MEASURE_DATE), group.BMI, 1))"
   ]
  },
  {
   "cell_type": "code",
   "execution_count": 203,
   "metadata": {},
   "outputs": [],
   "source": [
    "intercept_slope = intercept_slope.apply(pd.Series)\n",
    "intercept_slope.columns = [[\"INTERCEPT\", \"SLOPE\"]]"
   ]
  },
  {
   "cell_type": "markdown",
   "metadata": {},
   "source": [
    "Now we have each patient's BMI intercept and slope, but we need to attach the obesity labels."
   ]
  },
  {
   "cell_type": "code",
   "execution_count": 228,
   "metadata": {},
   "outputs": [],
   "source": [
    "patient_df = pd.concat([intercept_slope.reset_index(), vitals_obesity.groupby(\"PATID\").Obesity.mean().reset_index()], axis = 1)"
   ]
  },
  {
   "cell_type": "code",
   "execution_count": 248,
   "metadata": {},
   "outputs": [],
   "source": [
    "# Drop duplicate PATID column\n",
    "patient_df = patient_df.loc[:,~patient_df.columns.duplicated(keep='first')]"
   ]
  },
  {
   "cell_type": "markdown",
   "metadata": {},
   "source": [
    "### Adding demographic information"
   ]
  },
  {
   "cell_type": "code",
   "execution_count": 229,
   "metadata": {},
   "outputs": [],
   "source": [
    "demographics = pd.read_csv(\"/dcri/cpm/projects/Biostat824/DATA/DEMOGRAPHICS.csv\")"
   ]
  },
  {
   "cell_type": "code",
   "execution_count": 230,
   "metadata": {},
   "outputs": [],
   "source": [
    "demographics = demographics[(demographics.SEX == \"F\") | (demographics.SEX == \"M\")]"
   ]
  },
  {
   "cell_type": "code",
   "execution_count": 231,
   "metadata": {},
   "outputs": [],
   "source": [
    "demographics = demographics[(demographics.RACE != \"WHITE OR CAUCASIAN\") & (demographics.RACE != \"UNKNOWN\")].drop(\"BIRTH_DATE\", axis = 1)"
   ]
  },
  {
   "cell_type": "code",
   "execution_count": 255,
   "metadata": {},
   "outputs": [],
   "source": [
    "patient_df = patient_df.join(other = demographics.set_index(\"PATID\"), how = 'left', on = \"PATID\")"
   ]
  },
  {
   "cell_type": "markdown",
   "metadata": {},
   "source": [
    "### Dummy-encode Categorical Variables"
   ]
  },
  {
   "cell_type": "code",
   "execution_count": 256,
   "metadata": {},
   "outputs": [],
   "source": [
    "model_matrix = pd.concat([patient_df.drop([\"SEX\", \"HISPANIC\", \"RACE\"], axis = 1), pd.get_dummies(patient_df[[\"SEX\", \"HISPANIC\", \"RACE\"]], drop_first = True)], axis = 1)"
   ]
  },
  {
   "cell_type": "code",
   "execution_count": 257,
   "metadata": {},
   "outputs": [],
   "source": [
    "labels = model_matrix.Obesity.values"
   ]
  },
  {
   "cell_type": "code",
   "execution_count": 258,
   "metadata": {},
   "outputs": [],
   "source": [
    "model_matrix = model_matrix.drop([\"PATID\", \"Obesity\"], axis = 1).values"
   ]
  },
  {
   "cell_type": "markdown",
   "metadata": {},
   "source": [
    "### Train-Test Split"
   ]
  },
  {
   "cell_type": "code",
   "execution_count": 421,
   "metadata": {},
   "outputs": [],
   "source": [
    "X_train, X_test, y_train, y_test = train_test_split(model_matrix, labels, stratify = labels, test_size=0.2, random_state = 2019)"
   ]
  },
  {
   "cell_type": "markdown",
   "metadata": {},
   "source": [
    "Fit on unstandardized variables"
   ]
  },
  {
   "cell_type": "markdown",
   "metadata": {},
   "source": [
    "### Logistic Regression Model"
   ]
  },
  {
   "cell_type": "code",
   "execution_count": 422,
   "metadata": {},
   "outputs": [],
   "source": [
    "model = LogisticRegressionCV(cv = 10, penalty = \"l2\", solver = 'lbfgs', random_state = 2019).fit(X_train, y_train)"
   ]
  },
  {
   "cell_type": "code",
   "execution_count": 423,
   "metadata": {},
   "outputs": [],
   "source": [
    "predicted_probs = model.predict_proba(X_test)\n",
    "# first column = probability of observation being non-obese\n",
    "# second column = probability of observation being obese"
   ]
  },
  {
   "cell_type": "code",
   "execution_count": 424,
   "metadata": {},
   "outputs": [
    {
     "data": {
      "text/plain": [
       "0.94054327409333915"
      ]
     },
     "execution_count": 424,
     "metadata": {},
     "output_type": "execute_result"
    }
   ],
   "source": [
    "model.score(X_test, y_test)"
   ]
  },
  {
   "cell_type": "code",
   "execution_count": 425,
   "metadata": {},
   "outputs": [],
   "source": [
    "predictions = model.predict(X_test)"
   ]
  },
  {
   "cell_type": "code",
   "execution_count": 426,
   "metadata": {},
   "outputs": [
    {
     "data": {
      "text/plain": [
       "array([[39057,     0],\n",
       "       [ 2469,     0]])"
      ]
     },
     "execution_count": 426,
     "metadata": {},
     "output_type": "execute_result"
    }
   ],
   "source": [
    "confusion_matrix(y_test, predictions)"
   ]
  },
  {
   "cell_type": "code",
   "execution_count": 427,
   "metadata": {},
   "outputs": [],
   "source": [
    "model_auc_logistic = roc_auc_score(y_test, predicted_probs[:,1])"
   ]
  },
  {
   "cell_type": "code",
   "execution_count": 428,
   "metadata": {},
   "outputs": [],
   "source": [
    "fpr_logistic, tpr_logistic, _ = roc_curve(y_test, predicted_probs[:, 1])"
   ]
  },
  {
   "cell_type": "markdown",
   "metadata": {},
   "source": [
    "### Lasso Model"
   ]
  },
  {
   "cell_type": "code",
   "execution_count": 429,
   "metadata": {},
   "outputs": [],
   "source": [
    "model = LassoCV(random_state = 2019, cv = 10).fit(X_train, y_train)"
   ]
  },
  {
   "cell_type": "code",
   "execution_count": 430,
   "metadata": {},
   "outputs": [],
   "source": [
    "predicted_probs = model.predict(X_test)\n",
    "# first column = probability of observation being non-obese\n",
    "# second column = probability of observation being obese"
   ]
  },
  {
   "cell_type": "code",
   "execution_count": 431,
   "metadata": {},
   "outputs": [],
   "source": [
    "model_auc_lasso = roc_auc_score(y_test, predicted_probs)\n",
    "fpr_lasso, tpr_lasso, _ = roc_curve(y_test, predicted_probs)"
   ]
  },
  {
   "cell_type": "markdown",
   "metadata": {},
   "source": [
    "### Random Forest"
   ]
  },
  {
   "cell_type": "code",
   "execution_count": 432,
   "metadata": {},
   "outputs": [],
   "source": [
    "model = RandomForestClassifier(n_estimators = 300).fit(X_train, y_train)"
   ]
  },
  {
   "cell_type": "code",
   "execution_count": 433,
   "metadata": {},
   "outputs": [],
   "source": [
    "predicted_probs = model.predict(X_test)\n",
    "# first column = probability of observation being non-obese\n",
    "# second column = probability of observation being obese"
   ]
  },
  {
   "cell_type": "code",
   "execution_count": 434,
   "metadata": {},
   "outputs": [
    {
     "data": {
      "text/plain": [
       "0.89230843327072196"
      ]
     },
     "execution_count": 434,
     "metadata": {},
     "output_type": "execute_result"
    }
   ],
   "source": [
    "model.score(X_test, y_test)"
   ]
  },
  {
   "cell_type": "code",
   "execution_count": 435,
   "metadata": {},
   "outputs": [],
   "source": [
    "predictions = model.predict(X_test)"
   ]
  },
  {
   "cell_type": "code",
   "execution_count": 436,
   "metadata": {},
   "outputs": [
    {
     "data": {
      "text/plain": [
       "array([[36819,  2238],\n",
       "       [ 2234,   235]])"
      ]
     },
     "execution_count": 436,
     "metadata": {},
     "output_type": "execute_result"
    }
   ],
   "source": [
    "confusion_matrix(y_test, predictions)"
   ]
  },
  {
   "cell_type": "code",
   "execution_count": 437,
   "metadata": {},
   "outputs": [],
   "source": [
    "model_auc_forest = roc_auc_score(y_test, predicted_probs)"
   ]
  },
  {
   "cell_type": "code",
   "execution_count": 438,
   "metadata": {},
   "outputs": [],
   "source": [
    "fpr_forest, tpr_forest, _ = roc_curve(y_test, predicted_probs)"
   ]
  },
  {
   "cell_type": "markdown",
   "metadata": {},
   "source": [
    "#### ROC Curves"
   ]
  },
  {
   "cell_type": "code",
   "execution_count": 440,
   "metadata": {},
   "outputs": [
    {
     "data": {
      "image/png": "[encoded data removed]",
      "text/plain": [
       "<matplotlib.figure.Figure at 0x7fc07cce58d0>"
      ]
     },
     "metadata": {},
     "output_type": "display_data"
    }
   ],
   "source": [
    "fig = plt.figure();\n",
    "plt.plot(fpr_logistic, tpr_logistic, lw=2, label='Logistic (area = %0.2f)' % model_auc_logistic);\n",
    "plt.plot(fpr_lasso, tpr_lasso, lw=2, label='Lasso (area = %0.2f)' % model_auc_lasso);\n",
    "plt.plot(fpr_forest, tpr_forest, lw=2, label='Random Forest (area = %0.2f)' % model_auc_forest);\n",
    "plt.plot([0, 1], [0, 1], color='navy', lw=2, linestyle='--');\n",
    "plt.xlim([0.0, 1.0]);\n",
    "plt.ylim([0.0, 1.05]);\n",
    "plt.xlabel('False Positive Rate');\n",
    "plt.ylabel('True Positive Rate');\n",
    "plt.title('ROC Curve for Unstandardized Variables');\n",
    "plt.legend(loc=\"lower right\");\n",
    "plt.show();"
   ]
  },
  {
   "cell_type": "markdown",
   "metadata": {},
   "source": [
    "Our models didn't perform too well. I think this the class imbalance makes it diffifcult for our model to discriminate between obese and non-obese patients"
   ]
  },
  {
   "cell_type": "markdown",
   "metadata": {},
   "source": [
    "## Standardized Variables"
   ]
  },
  {
   "cell_type": "code",
   "execution_count": 441,
   "metadata": {},
   "outputs": [],
   "source": [
    "scaler = StandardScaler()"
   ]
  },
  {
   "cell_type": "code",
   "execution_count": 442,
   "metadata": {},
   "outputs": [],
   "source": [
    "X_train = scaler.fit_transform(X_train)\n",
    "X_test = scaler.transform(X_test)"
   ]
  },
  {
   "cell_type": "markdown",
   "metadata": {},
   "source": [
    "### Logistic Regression Model"
   ]
  },
  {
   "cell_type": "code",
   "execution_count": 443,
   "metadata": {},
   "outputs": [],
   "source": [
    "model = LogisticRegressionCV(cv = 10, penalty = \"l2\", solver = 'lbfgs', random_state = 2019).fit(X_train, y_train)"
   ]
  },
  {
   "cell_type": "code",
   "execution_count": 444,
   "metadata": {},
   "outputs": [],
   "source": [
    "predicted_probs = model.predict_proba(X_test)\n",
    "# first column = probability of observation being non-obese\n",
    "# second column = probability of observation being obese"
   ]
  },
  {
   "cell_type": "code",
   "execution_count": 445,
   "metadata": {},
   "outputs": [],
   "source": [
    "predictions = model.predict(X_test,)"
   ]
  },
  {
   "cell_type": "code",
   "execution_count": 446,
   "metadata": {},
   "outputs": [
    {
     "data": {
      "text/plain": [
       "0.94054327409333915"
      ]
     },
     "execution_count": 446,
     "metadata": {},
     "output_type": "execute_result"
    }
   ],
   "source": [
    "model.score(X_test, y_test)"
   ]
  },
  {
   "cell_type": "code",
   "execution_count": 447,
   "metadata": {},
   "outputs": [
    {
     "data": {
      "text/plain": [
       "array([[39057,     0],\n",
       "       [ 2469,     0]])"
      ]
     },
     "execution_count": 447,
     "metadata": {},
     "output_type": "execute_result"
    }
   ],
   "source": [
    "confusion_matrix(y_test, predictions)"
   ]
  },
  {
   "cell_type": "code",
   "execution_count": 448,
   "metadata": {},
   "outputs": [],
   "source": [
    "model_auc_logistic = roc_auc_score(y_test, predicted_probs[:,1])"
   ]
  },
  {
   "cell_type": "code",
   "execution_count": 449,
   "metadata": {},
   "outputs": [],
   "source": [
    "fpr_logistic, tpr_logistic, _ = roc_curve(y_test, predicted_probs[:, 1])"
   ]
  },
  {
   "cell_type": "markdown",
   "metadata": {},
   "source": [
    "### Lasso Model"
   ]
  },
  {
   "cell_type": "code",
   "execution_count": 450,
   "metadata": {},
   "outputs": [],
   "source": [
    "model = LassoCV(random_state = 2019, cv = 10).fit(X_train, y_train)"
   ]
  },
  {
   "cell_type": "code",
   "execution_count": 451,
   "metadata": {},
   "outputs": [],
   "source": [
    "predicted_probs = model.predict(X_test)\n",
    "# first column = probability of observation being non-obese\n",
    "# second column = probability of observation being obese"
   ]
  },
  {
   "cell_type": "code",
   "execution_count": 452,
   "metadata": {},
   "outputs": [],
   "source": [
    "model_auc_lasso = roc_auc_score(y_test, predicted_probs)\n",
    "fpr_lasso, tpr_lasso, _ = roc_curve(y_test, predicted_probs)"
   ]
  },
  {
   "cell_type": "markdown",
   "metadata": {},
   "source": [
    "### Random Forest"
   ]
  },
  {
   "cell_type": "code",
   "execution_count": 453,
   "metadata": {},
   "outputs": [],
   "source": [
    "model = RandomForestClassifier(n_estimators = 300).fit(X_train, y_train)"
   ]
  },
  {
   "cell_type": "code",
   "execution_count": 454,
   "metadata": {},
   "outputs": [],
   "source": [
    "predicted_probs = model.predict(X_test)\n",
    "# first column = probability of observation being non-obese\n",
    "# second column = probability of observation being obese"
   ]
  },
  {
   "cell_type": "code",
   "execution_count": 455,
   "metadata": {},
   "outputs": [
    {
     "data": {
      "text/plain": [
       "0.93601598998217983"
      ]
     },
     "execution_count": 455,
     "metadata": {},
     "output_type": "execute_result"
    }
   ],
   "source": [
    "model.score(X_test, y_test)"
   ]
  },
  {
   "cell_type": "code",
   "execution_count": 456,
   "metadata": {},
   "outputs": [],
   "source": [
    "predictions = model.predict(X_test)"
   ]
  },
  {
   "cell_type": "code",
   "execution_count": 457,
   "metadata": {},
   "outputs": [
    {
     "data": {
      "text/plain": [
       "array([[38340,   717],\n",
       "       [ 1940,   529]])"
      ]
     },
     "execution_count": 457,
     "metadata": {},
     "output_type": "execute_result"
    }
   ],
   "source": [
    "confusion_matrix(y_test, predictions)"
   ]
  },
  {
   "cell_type": "code",
   "execution_count": 458,
   "metadata": {},
   "outputs": [],
   "source": [
    "model_auc_forest = roc_auc_score(y_test, predicted_probs)"
   ]
  },
  {
   "cell_type": "code",
   "execution_count": 459,
   "metadata": {},
   "outputs": [],
   "source": [
    "fpr_forest, tpr_forest, _ = roc_curve(y_test, predicted_probs)"
   ]
  },
  {
   "cell_type": "markdown",
   "metadata": {},
   "source": [
    "#### ROC Curves"
   ]
  },
  {
   "cell_type": "code",
   "execution_count": 460,
   "metadata": {},
   "outputs": [
    {
     "data": {
      "image/png": "[encoded data removed]",
      "text/plain": [
       "<matplotlib.figure.Figure at 0x7fc02e504eb8>"
      ]
     },
     "metadata": {},
     "output_type": "display_data"
    }
   ],
   "source": [
    "fig = plt.figure();\n",
    "plt.plot(fpr_logistic, tpr_logistic, lw=2, label='Logistic (area = %0.2f)' % model_auc_logistic);\n",
    "plt.plot(fpr_lasso, tpr_lasso, lw=2, label='Lasso (area = %0.2f)' % model_auc_lasso);\n",
    "plt.plot(fpr_forest, tpr_forest, lw=2, label='Random Forest (area = %0.2f)' % model_auc_forest);\n",
    "plt.plot([0, 1], [0, 1], color='navy', lw=2, linestyle='--');\n",
    "plt.xlim([0.0, 1.0]);\n",
    "plt.ylim([0.0, 1.05]);\n",
    "plt.xlabel('False Positive Rate');\n",
    "plt.ylabel('True Positive Rate');\n",
    "plt.title('ROC Curve for Standardized Variables');\n",
    "plt.legend(loc=\"lower right\");\n",
    "plt.show();"
   ]
  },
  {
   "cell_type": "markdown",
   "metadata": {},
   "source": [
    "Our models aren't able to discriminate the obese cases from the non-obese cases well. I conjecture that more data pre-processing needs to be done. For example, perhaps my assumption that the BMI trajectories are linear was incorrect. Perhaps the trajectories are non-linear, and I should go back and make these changes accordingly.\n",
    "\n",
    "Additionally, the class imbalance may also be an issue. There are a lot more negative cases than positive cases (obese patients only account for < 6% of patients) so downsampling or other methods may need to be considered."
   ]
  },
  {
   "cell_type": "markdown",
   "metadata": {},
   "source": [
    "Another reason could be that we need to re-define our outcomes. The [CDC defines obesity](https://www.cdc.gov/healthyschools/obesity/facts.htm) in children and young people as BMI at or above the 95th percentile for young people of the same age and sex. "
   ]
  },
  {
   "cell_type": "markdown",
   "metadata": {},
   "source": [
    "If our models still do not perform well after these changes, one could argue that BMI trajectories may just be poor predictors for obesity."
   ]
  }
 ],
 "metadata": {
  "kernelspec": {
   "display_name": "Python 3",
   "language": "python",
   "name": "python3"
  },
  "language_info": {
   "codemirror_mode": {
    "name": "ipython",
    "version": 3
   },
   "file_extension": ".py",
   "mimetype": "text/x-python",
   "name": "python",
   "nbconvert_exporter": "python",
   "pygments_lexer": "ipython3",
   "version": "3.6.1"
  }
 },
 "nbformat": 4,
 "nbformat_minor": 2
}
