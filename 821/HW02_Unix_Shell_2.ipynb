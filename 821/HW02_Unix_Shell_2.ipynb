{
 "cells": [
  {
   "cell_type": "markdown",
   "metadata": {},
   "source": [
    "# Working with the Unix Shell 2"
   ]
  },
  {
   "cell_type": "markdown",
   "metadata": {
    "collapsed": true
   },
   "source": [
    "**Exercise 1.1**. Download a compressed data archive from https://www.dropbox.com/s/vivut71p4bkurhw/data.tar.gz (10 points)\n",
    "\n"
   ]
  },
  {
   "cell_type": "code",
   "execution_count": 34,
   "metadata": {
    "collapsed": false,
    "scrolled": true
   },
   "outputs": [
    {
     "name": "stdout",
     "output_type": "stream",
     "text": [
      "--2017-09-07 23:16:20--  https://www.dropbox.com/s/vivut71p4bkurhw/data.tar.gz\n",
      "Resolving www.dropbox.com (www.dropbox.com)... 162.125.6.1, 2620:100:601c:1::a27d:601\n",
      "Connecting to www.dropbox.com (www.dropbox.com)|162.125.6.1|:443... connected.\n",
      "HTTP request sent, awaiting response... 302 Found\n",
      "Location: https://dl.dropboxusercontent.com/content_link/UFqWSbzfjAvxmxy38YSOUDZhXgLaWrRYk9YveZUorlt037WXkugHscbbgBGO9Lqz/file [following]\n",
      "--2017-09-07 23:16:21--  https://dl.dropboxusercontent.com/content_link/UFqWSbzfjAvxmxy38YSOUDZhXgLaWrRYk9YveZUorlt037WXkugHscbbgBGO9Lqz/file\n",
      "Resolving dl.dropboxusercontent.com (dl.dropboxusercontent.com)... 162.125.6.6, 2620:100:601c:6::a27d:606\n",
      "Connecting to dl.dropboxusercontent.com (dl.dropboxusercontent.com)|162.125.6.6|:443... connected.\n",
      "HTTP request sent, awaiting response... 200 OK\n",
      "Length: 3973292 (3.8M) [application/octet-stream]\n",
      "Saving to: ‘data.tar.gz’\n",
      "\n",
      "data.tar.gz         100%[=====================>]   3.79M  --.-KB/s   in 0.04s  \n",
      "\n",
      "2017-09-07 23:16:22 (108 MB/s) - ‘data.tar.gz’ saved [3973292/3973292]\n",
      "\n"
     ]
    }
   ],
   "source": [
    "wget \"https://www.dropbox.com/s/vivut71p4bkurhw/data.tar.gz\""
   ]
  },
  {
   "cell_type": "markdown",
   "metadata": {},
   "source": [
    "**Exercise 1.2**. Regenerate the original data folder from `data.tar.gz`. Change directory into the data folder. List the files in the folder. (10 points)"
   ]
  },
  {
   "cell_type": "code",
   "execution_count": 35,
   "metadata": {
    "collapsed": false
   },
   "outputs": [
    {
     "name": "stdout",
     "output_type": "stream",
     "text": [
      "cases.txt      expr-1020.txt  expr-1041.txt  expr-1062.txt  expr-1083.txt\n",
      "controls.txt   expr-1021.txt  expr-1042.txt  expr-1063.txt  expr-1084.txt\n",
      "expr-1001.txt  expr-1022.txt  expr-1043.txt  expr-1064.txt  expr-1085.txt\n",
      "expr-1002.txt  expr-1023.txt  expr-1044.txt  expr-1065.txt  expr-1086.txt\n",
      "expr-1003.txt  expr-1024.txt  expr-1045.txt  expr-1066.txt  expr-1087.txt\n",
      "expr-1004.txt  expr-1025.txt  expr-1046.txt  expr-1067.txt  expr-1088.txt\n",
      "expr-1005.txt  expr-1026.txt  expr-1047.txt  expr-1068.txt  expr-1089.txt\n",
      "expr-1006.txt  expr-1027.txt  expr-1048.txt  expr-1069.txt  expr-1090.txt\n",
      "expr-1007.txt  expr-1028.txt  expr-1049.txt  expr-1070.txt  expr-1091.txt\n",
      "expr-1008.txt  expr-1029.txt  expr-1050.txt  expr-1071.txt  expr-1092.txt\n",
      "expr-1009.txt  expr-1030.txt  expr-1051.txt  expr-1072.txt  expr-1093.txt\n",
      "expr-1010.txt  expr-1031.txt  expr-1052.txt  expr-1073.txt  expr-1094.txt\n",
      "expr-1011.txt  expr-1032.txt  expr-1053.txt  expr-1074.txt  expr-1095.txt\n",
      "expr-1012.txt  expr-1033.txt  expr-1054.txt  expr-1075.txt  expr-1096.txt\n",
      "expr-1013.txt  expr-1034.txt  expr-1055.txt  expr-1076.txt  expr-1097.txt\n",
      "expr-1014.txt  expr-1035.txt  expr-1056.txt  expr-1077.txt  expr-1098.txt\n",
      "expr-1015.txt  expr-1036.txt  expr-1057.txt  expr-1078.txt  expr-1099.txt\n",
      "expr-1016.txt  expr-1037.txt  expr-1058.txt  expr-1079.txt  expr-1100.txt\n",
      "expr-1017.txt  expr-1038.txt  expr-1059.txt  expr-1080.txt  MD5SUM\n",
      "expr-1018.txt  expr-1039.txt  expr-1060.txt  expr-1081.txt  outcomes.txt\n",
      "expr-1019.txt  expr-1040.txt  expr-1061.txt  expr-1082.txt\n"
     ]
    }
   ],
   "source": [
    "tar -xzf data.tar.gz\n",
    "cd data\n",
    "ls"
   ]
  },
  {
   "cell_type": "markdown",
   "metadata": {},
   "source": [
    "**Exercise 1.3**. Check if any files have been corrupted using the MDFSUM checksum file and note its `FILENAME`.  Delete any corrupted files. (10 points)"
   ]
  },
  {
   "cell_type": "code",
   "execution_count": 36,
   "metadata": {
    "collapsed": false
   },
   "outputs": [
    {
     "name": "stdout",
     "output_type": "stream",
     "text": [
      "cases.txt: OK\n",
      "controls.txt: OK\n",
      "expr-1001.txt: OK\n",
      "expr-1002.txt: OK\n",
      "expr-1003.txt: OK\n",
      "expr-1004.txt: OK\n",
      "expr-1005.txt: OK\n",
      "expr-1006.txt: OK\n",
      "expr-1007.txt: OK\n",
      "expr-1008.txt: OK\n",
      "expr-1009.txt: OK\n",
      "expr-1010.txt: OK\n",
      "expr-1011.txt: OK\n",
      "expr-1012.txt: OK\n",
      "expr-1013.txt: OK\n",
      "expr-1014.txt: OK\n",
      "expr-1015.txt: OK\n",
      "expr-1016.txt: OK\n",
      "expr-1017.txt: OK\n",
      "expr-1018.txt: OK\n",
      "expr-1019.txt: OK\n",
      "expr-1020.txt: OK\n",
      "expr-1021.txt: OK\n",
      "expr-1022.txt: OK\n",
      "expr-1023.txt: OK\n",
      "expr-1024.txt: OK\n",
      "expr-1025.txt: OK\n",
      "expr-1026.txt: OK\n",
      "expr-1027.txt: OK\n",
      "expr-1028.txt: OK\n",
      "expr-1029.txt: OK\n",
      "expr-1030.txt: OK\n",
      "expr-1031.txt: OK\n",
      "expr-1032.txt: OK\n",
      "expr-1033.txt: OK\n",
      "expr-1034.txt: OK\n",
      "expr-1035.txt: OK\n",
      "expr-1036.txt: OK\n",
      "expr-1037.txt: OK\n",
      "expr-1038.txt: OK\n",
      "expr-1039.txt: OK\n",
      "expr-1040.txt: OK\n",
      "expr-1041.txt: OK\n",
      "expr-1042.txt: OK\n",
      "expr-1043.txt: OK\n",
      "expr-1044.txt: OK\n",
      "expr-1045.txt: OK\n",
      "expr-1046.txt: OK\n",
      "expr-1047.txt: OK\n",
      "expr-1048.txt: OK\n",
      "expr-1049.txt: OK\n",
      "expr-1050.txt: OK\n",
      "expr-1051.txt: OK\n",
      "expr-1052.txt: OK\n",
      "expr-1053.txt: OK\n",
      "expr-1054.txt: OK\n",
      "expr-1055.txt: OK\n",
      "expr-1056.txt: OK\n",
      "expr-1057.txt: OK\n",
      "expr-1058.txt: OK\n",
      "expr-1059.txt: OK\n",
      "expr-1060.txt: OK\n",
      "expr-1061.txt: OK\n",
      "expr-1062.txt: OK\n",
      "expr-1063.txt: OK\n",
      "expr-1064.txt: OK\n",
      "expr-1065.txt: OK\n",
      "expr-1066.txt: OK\n",
      "expr-1067.txt: OK\n",
      "expr-1068.txt: OK\n",
      "expr-1069.txt: OK\n",
      "expr-1070.txt: OK\n",
      "expr-1071.txt: OK\n",
      "expr-1072.txt: OK\n",
      "expr-1073.txt: OK\n",
      "expr-1074.txt: FAILED\n",
      "expr-1075.txt: OK\n",
      "expr-1076.txt: OK\n",
      "expr-1077.txt: OK\n",
      "expr-1078.txt: OK\n",
      "expr-1079.txt: OK\n",
      "expr-1080.txt: OK\n",
      "expr-1081.txt: OK\n",
      "expr-1082.txt: OK\n",
      "expr-1083.txt: OK\n",
      "expr-1084.txt: OK\n",
      "expr-1085.txt: OK\n",
      "expr-1086.txt: OK\n",
      "expr-1087.txt: OK\n",
      "expr-1088.txt: OK\n",
      "expr-1089.txt: OK\n",
      "expr-1090.txt: OK\n",
      "expr-1091.txt: OK\n",
      "expr-1092.txt: OK\n",
      "expr-1093.txt: OK\n",
      "expr-1094.txt: OK\n",
      "expr-1095.txt: OK\n",
      "expr-1096.txt: OK\n",
      "expr-1097.txt: OK\n",
      "expr-1098.txt: OK\n",
      "expr-1099.txt: OK\n",
      "expr-1100.txt: OK\n",
      "outcomes.txt: OK\n",
      "md5sum: WARNING: 1 computed checksum did NOT match\n"
     ]
    },
    {
     "ename": "",
     "evalue": "1",
     "output_type": "error",
     "traceback": []
    }
   ],
   "source": [
    "md5sum -c MD5SUM"
   ]
  },
  {
   "cell_type": "markdown",
   "metadata": {},
   "source": [
    "**Exercise 1.4**. Replace the corrupted file with a correct copy from https://www.dropbox.com/s/vf8qcoj07mcq7wn/FILENAME. You will need to replace `FILENAME` with the correct filename as noted earlier. Check that there are no more `md5sum` errors. Go back to the original directory. (10 points)"
   ]
  },
  {
   "cell_type": "code",
   "execution_count": 37,
   "metadata": {
    "collapsed": false
   },
   "outputs": [
    {
     "name": "stdout",
     "output_type": "stream",
     "text": [
      "--2017-09-07 23:18:00--  https://www.dropbox.com/s/vf8qcoj07mcq7wn/expr-1074.txt\n",
      "Resolving www.dropbox.com (www.dropbox.com)... 162.125.6.1, 2620:100:601c:1::a27d:601\n",
      "Connecting to www.dropbox.com (www.dropbox.com)|162.125.6.1|:443... connected.\n",
      "HTTP request sent, awaiting response... 302 Found\n",
      "Location: https://dl.dropboxusercontent.com/content_link/3YOpRckVgylk1z5FfFa8e350nWYWvGMgvFMAwqYbQ7SmihRtzVPLGJuwluVYqDtP/file [following]\n",
      "--2017-09-07 23:18:01--  https://dl.dropboxusercontent.com/content_link/3YOpRckVgylk1z5FfFa8e350nWYWvGMgvFMAwqYbQ7SmihRtzVPLGJuwluVYqDtP/file\n",
      "Resolving dl.dropboxusercontent.com (dl.dropboxusercontent.com)... 162.125.6.6, 2620:100:601c:6::a27d:606\n",
      "Connecting to dl.dropboxusercontent.com (dl.dropboxusercontent.com)|162.125.6.6|:443... connected.\n",
      "HTTP request sent, awaiting response... 200 OK\n",
      "Length: 111905 (109K) [text/plain]\n",
      "Saving to: ‘expr-1074.txt’\n",
      "\n",
      "expr-1074.txt       100%[=====================>] 109.28K  --.-KB/s   in 0.005s \n",
      "\n",
      "2017-09-07 23:18:03 (20.0 MB/s) - ‘expr-1074.txt’ saved [111905/111905]\n",
      "\n",
      "cases.txt: OK\n",
      "controls.txt: OK\n",
      "expr-1001.txt: OK\n",
      "expr-1002.txt: OK\n",
      "expr-1003.txt: OK\n",
      "expr-1004.txt: OK\n",
      "expr-1005.txt: OK\n",
      "expr-1006.txt: OK\n",
      "expr-1007.txt: OK\n",
      "expr-1008.txt: OK\n",
      "expr-1009.txt: OK\n",
      "expr-1010.txt: OK\n",
      "expr-1011.txt: OK\n",
      "expr-1012.txt: OK\n",
      "expr-1013.txt: OK\n",
      "expr-1014.txt: OK\n",
      "expr-1015.txt: OK\n",
      "expr-1016.txt: OK\n",
      "expr-1017.txt: OK\n",
      "expr-1018.txt: OK\n",
      "expr-1019.txt: OK\n",
      "expr-1020.txt: OK\n",
      "expr-1021.txt: OK\n",
      "expr-1022.txt: OK\n",
      "expr-1023.txt: OK\n",
      "expr-1024.txt: OK\n",
      "expr-1025.txt: OK\n",
      "expr-1026.txt: OK\n",
      "expr-1027.txt: OK\n",
      "expr-1028.txt: OK\n",
      "expr-1029.txt: OK\n",
      "expr-1030.txt: OK\n",
      "expr-1031.txt: OK\n",
      "expr-1032.txt: OK\n",
      "expr-1033.txt: OK\n",
      "expr-1034.txt: OK\n",
      "expr-1035.txt: OK\n",
      "expr-1036.txt: OK\n",
      "expr-1037.txt: OK\n",
      "expr-1038.txt: OK\n",
      "expr-1039.txt: OK\n",
      "expr-1040.txt: OK\n",
      "expr-1041.txt: OK\n",
      "expr-1042.txt: OK\n",
      "expr-1043.txt: OK\n",
      "expr-1044.txt: OK\n",
      "expr-1045.txt: OK\n",
      "expr-1046.txt: OK\n",
      "expr-1047.txt: OK\n",
      "expr-1048.txt: OK\n",
      "expr-1049.txt: OK\n",
      "expr-1050.txt: OK\n",
      "expr-1051.txt: OK\n",
      "expr-1052.txt: OK\n",
      "expr-1053.txt: OK\n",
      "expr-1054.txt: OK\n",
      "expr-1055.txt: OK\n",
      "expr-1056.txt: OK\n",
      "expr-1057.txt: OK\n",
      "expr-1058.txt: OK\n",
      "expr-1059.txt: OK\n",
      "expr-1060.txt: OK\n",
      "expr-1061.txt: OK\n",
      "expr-1062.txt: OK\n",
      "expr-1063.txt: OK\n",
      "expr-1064.txt: OK\n",
      "expr-1065.txt: OK\n",
      "expr-1066.txt: OK\n",
      "expr-1067.txt: OK\n",
      "expr-1068.txt: OK\n",
      "expr-1069.txt: OK\n",
      "expr-1070.txt: OK\n",
      "expr-1071.txt: OK\n",
      "expr-1072.txt: OK\n",
      "expr-1073.txt: OK\n",
      "expr-1074.txt: OK\n",
      "expr-1075.txt: OK\n",
      "expr-1076.txt: OK\n",
      "expr-1077.txt: OK\n",
      "expr-1078.txt: OK\n",
      "expr-1079.txt: OK\n",
      "expr-1080.txt: OK\n",
      "expr-1081.txt: OK\n",
      "expr-1082.txt: OK\n",
      "expr-1083.txt: OK\n",
      "expr-1084.txt: OK\n",
      "expr-1085.txt: OK\n",
      "expr-1086.txt: OK\n",
      "expr-1087.txt: OK\n",
      "expr-1088.txt: OK\n",
      "expr-1089.txt: OK\n",
      "expr-1090.txt: OK\n",
      "expr-1091.txt: OK\n",
      "expr-1092.txt: OK\n",
      "expr-1093.txt: OK\n",
      "expr-1094.txt: OK\n",
      "expr-1095.txt: OK\n",
      "expr-1096.txt: OK\n",
      "expr-1097.txt: OK\n",
      "expr-1098.txt: OK\n",
      "expr-1099.txt: OK\n",
      "expr-1100.txt: OK\n",
      "outcomes.txt: OK\n"
     ]
    }
   ],
   "source": [
    "rm expr-1074.txt\n",
    "wget \"https://www.dropbox.com/s/vf8qcoj07mcq7wn/expr-1074.txt\"\n",
    "md5sum -c MD5SUM"
   ]
  },
  {
   "cell_type": "code",
   "execution_count": 38,
   "metadata": {
    "collapsed": false
   },
   "outputs": [
    {
     "name": "stdout",
     "output_type": "stream",
     "text": [
      "/home/jovyan/work\n"
     ]
    }
   ],
   "source": [
    "cd -"
   ]
  },
  {
   "cell_type": "markdown",
   "metadata": {},
   "source": [
    "**Exercise 2.1**. (20 points) Write a script `extract.sh` that extracts only the raw sequence letters and quality scores from a [FASTQ](GGGTGATGGCCGCTGCCGATGGCGTCAAATCCCACCGTTCAGGGATACGACGTTTGTATTTTAAGAATCTGA) file. For example, if `test.fq` consists of\n",
    "\n",
    "```\n",
    "@071112_SLXA-EAS1_s_7:5:1:817:345\n",
    "GGGTGATGGCCGCTGCCGATGGCGTCAAATCCCACC\n",
    "+071112_SLXA-EAS1_s_7:5:1:817:345\n",
    "IIIIIIIIIIIIIIIIIIIIIIIIIIIIII9IG9IC\n",
    "@071112_SLXA-EAS1_s_7:5:1:801:338\n",
    "GTTCAGGGATACGACGTTTGTATTTTAAGAATCTGA\n",
    "+071112_SLXA-EAS1_s_7:5:1:801:338\n",
    "IIIIIIIIIIIIIIIIIIIIIIIIIIIIIIII6IBI\n",
    "```\n",
    "\n",
    "then\n",
    "\n",
    "```bash\n",
    "cat test.fq | extract.sh \n",
    "```\n",
    "\n",
    "should print \n",
    "\n",
    "```\n",
    "GGGTGATGGCCGCTGCCGATGGCGTCAAATCCCACC\n",
    "IIIIIIIIIIIIIIIIIIIIIIIIIIIIII9IG9IC\n",
    "GTTCAGGGATACGACGTTTGTATTTTAAGAATCTGA\n",
    "IIIIIIIIIIIIIIIIIIIIIIIIIIIIIIII6IBI\n",
    "```\n",
    "\n",
    "For all of Exercise 2, create test.fq, and run your script on test.fq to check that it gets the expected results."
   ]
  },
  {
   "cell_type": "code",
   "execution_count": 39,
   "metadata": {
    "collapsed": true
   },
   "outputs": [],
   "source": [
    "echo '@071112_SLXA-EAS1_s_7:5:1:817:345\n",
    "GGGTGATGGCCGCTGCCGATGGCGTCAAATCCCACC\n",
    "+071112_SLXA-EAS1_s_7:5:1:817:345\n",
    "IIIIIIIIIIIIIIIIIIIIIIIIIIIIII9IG9IC\n",
    "@071112_SLXA-EAS1_s_7:5:1:801:338\n",
    "GTTCAGGGATACGACGTTTGTATTTTAAGAATCTGA\n",
    "+071112_SLXA-EAS1_s_7:5:1:801:338\n",
    "IIIIIIIIIIIIIIIIIIIIIIIIIIIIIIII6IBI' > test.fq"
   ]
  },
  {
   "cell_type": "code",
   "execution_count": 42,
   "metadata": {
    "collapsed": true
   },
   "outputs": [],
   "source": [
    "cat > extract.sh << EOF\n",
    "grep -v \":\"\n",
    "EOF"
   ]
  },
  {
   "cell_type": "code",
   "execution_count": 47,
   "metadata": {
    "collapsed": false
   },
   "outputs": [
    {
     "name": "stdout",
     "output_type": "stream",
     "text": [
      "GGGTGATGGCCGCTGCCGATGGCGTCAAATCCCACC\n",
      "IIIIIIIIIIIIIIIIIIIIIIIIIIIIII9IG9IC\n",
      "GTTCAGGGATACGACGTTTGTATTTTAAGAATCTGA\n",
      "IIIIIIIIIIIIIIIIIIIIIIIIIIIIIIII6IBI\n"
     ]
    }
   ],
   "source": [
    "cat test.fq | bash extract.sh"
   ]
  },
  {
   "cell_type": "markdown",
   "metadata": {
    "collapsed": true
   },
   "source": [
    "**Exercise 2.2** (20 points) Write a script `extract_seq.sh` that extracts only the raw sequence letters from a FASTQ file and combines them into a single string. For example,\n",
    "\n",
    "```\n",
    "cat test.fq | bash extract_seq.sh\n",
    "```\n",
    "\n",
    "should print\n",
    "\n",
    "```\n",
    "GGGTGATGGCCGCTGCCGATGGCGTCAAATCCCACCGTTCAGGGATACGACGTTTGTATTTTAAGAATCTGA\n",
    "```"
   ]
  },
  {
   "cell_type": "code",
   "execution_count": 98,
   "metadata": {
    "collapsed": true
   },
   "outputs": [],
   "source": [
    "cat > extract_seq.sh << EOF\n",
    "egrep -v ':|I' | tr -d '\\n'\n",
    "EOF"
   ]
  },
  {
   "cell_type": "code",
   "execution_count": 99,
   "metadata": {
    "collapsed": false
   },
   "outputs": [
    {
     "name": "stdout",
     "output_type": "stream",
     "text": [
      "GGGTGATGGCCGCTGCCGATGGCGTCAAATCCCACCGTTCAGGGATACGACGTTTGTATTTTAAGAATCTGA"
     ]
    }
   ],
   "source": [
    "cat test.fq | bash extract_seq.sh"
   ]
  },
  {
   "cell_type": "markdown",
   "metadata": {},
   "source": [
    "**Exercise 2.3** Write a script `calc_gc.sh` that estimates the GC ratio (the fraction of all bases that are either G or C) from a FASTQ file. For example, the GC ratio of test.fq is .5138, (20 points)"
   ]
  },
  {
   "cell_type": "code",
   "execution_count": 297,
   "metadata": {
    "collapsed": false
   },
   "outputs": [],
   "source": [
    "cat > calc_gc.sh << 'EOF'\n",
    "read sequence\n",
    "echo \"Total bases:\"\n",
    "totalBases=$(echo $sequence | tr -d '\\n' | wc -m)\n",
    "echo $sequence | tr -d '\\n' | wc -m\n",
    "echo \"Total GC bases:\"\n",
    "cgBases=$(echo $sequence | grep -o \"[C|G]\" | tr -d '\\n' | wc -m)\n",
    "echo $sequence | grep -o \"[C|G]\" | tr -d '\\n' | wc -m\n",
    "awk \"BEGIN{print $cgBases/$totalBases}\"\n",
    "# Note: We don't have bc installed on the jovyan user, and I don't have permission to install bc\n",
    "# So I had to use awk to use floating-point division \n",
    "EOF"
   ]
  },
  {
   "cell_type": "code",
   "execution_count": 298,
   "metadata": {
    "collapsed": false
   },
   "outputs": [
    {
     "name": "stdout",
     "output_type": "stream",
     "text": [
      "Total bases:\n",
      "72\n",
      "Total GC bases:\n",
      "37\n",
      "0.513889\n"
     ]
    }
   ],
   "source": [
    "cat test.fq | bash extract_seq.sh | bash calc_gc.sh"
   ]
  }
 ],
 "metadata": {
  "kernelspec": {
   "display_name": "Bash",
   "language": "bash",
   "name": "bash"
  },
  "language_info": {
   "codemirror_mode": "shell",
   "file_extension": ".sh",
   "mimetype": "text/x-sh",
   "name": "bash"
  }
 },
 "nbformat": 4,
 "nbformat_minor": 2
}
