{
 "cells": [
  {
   "cell_type": "markdown",
   "metadata": {},
   "source": [
    "# Working with Relational Databases and SQL"
   ]
  },
  {
   "cell_type": "markdown",
   "metadata": {},
   "source": [
    "**1**. 75 points\n",
    "\n",
    "Convert the flat file data in `data/flat.csv` into a well-structured relational database in SQLite3 stored as `data/faculty.db`. Note - salary information is confidential and should be kept in a separate table from other personal data."
   ]
  },
  {
   "cell_type": "code",
   "execution_count": 1,
   "metadata": {
    "collapsed": true
   },
   "outputs": [],
   "source": [
    "import sqlite3, pandas as pd, numpy as np"
   ]
  },
  {
   "cell_type": "code",
   "execution_count": 2,
   "metadata": {
    "collapsed": true
   },
   "outputs": [],
   "source": [
    "flat = pd.read_csv(\"data/flat.csv\")"
   ]
  },
  {
   "cell_type": "code",
   "execution_count": 3,
   "metadata": {
    "collapsed": true
   },
   "outputs": [],
   "source": [
    "con = sqlite3.connect(\"data/faculty.db\")\n",
    "cur = con.cursor()"
   ]
  },
  {
   "cell_type": "markdown",
   "metadata": {},
   "source": [
    "Numpy is using some custom integer data types to efficiently pack data into memory. Since these types aren't familiar to sqlite, you'll have to tell it about how to handle them, beforehand:"
   ]
  },
  {
   "cell_type": "code",
   "execution_count": 4,
   "metadata": {
    "collapsed": true
   },
   "outputs": [],
   "source": [
    "for t in (np.int8, np.int16, np.int32, np.int64, np.uint8, np.uint16, np.uint32, np.uint64):\n",
    "    sqlite3.register_adapter(t, float)"
   ]
  },
  {
   "cell_type": "markdown",
   "metadata": {},
   "source": [
    "### Create tables and fill in from flat.csv"
   ]
  },
  {
   "cell_type": "code",
   "execution_count": 5,
   "metadata": {
    "collapsed": true
   },
   "outputs": [],
   "source": [
    "def populate_table(df):\n",
    "    # Takes a dataframe and returns a list of tuples containing each row\n",
    "    return(list(map(tuple, df.values)))"
   ]
  },
  {
   "cell_type": "markdown",
   "metadata": {},
   "source": [
    "Person Table:"
   ]
  },
  {
   "cell_type": "code",
   "execution_count": 6,
   "metadata": {
    "collapsed": false
   },
   "outputs": [
    {
     "data": {
      "text/plain": [
       "<sqlite3.Cursor at 0x7f9107add260>"
      ]
     },
     "execution_count": 6,
     "metadata": {},
     "output_type": "execute_result"
    }
   ],
   "source": [
    "cur.execute(\"DROP TABLE IF EXISTS person\")\n",
    "cur.execute(\"\"\"CREATE TABLE person (\n",
    "    \n",
    "    person_id INTEGER PRIMARY KEY, \n",
    "    first_name varchar(255), \n",
    "    last_name varchar(255),\n",
    "    age INTEGER,\n",
    "    height INTEGER,\n",
    "    weight INTEGER,\n",
    "    country_code varchar(2),\n",
    "    FOREIGN KEY (country_code) REFERENCES nation (country_code),\n",
    "    FOREIGN KEY (person_id) REFERENCES name (person_id)\n",
    "    FOREIGN KEY (person_id) REFERENCES salary (salary_id),\n",
    "    FOREIGN KEY (person_id) REFERENCES person_language (person_id)\n",
    "    );\"\"\")"
   ]
  },
  {
   "cell_type": "code",
   "execution_count": 7,
   "metadata": {
    "collapsed": false
   },
   "outputs": [
    {
     "data": {
      "text/plain": [
       "<sqlite3.Cursor at 0x7f9107add260>"
      ]
     },
     "execution_count": 7,
     "metadata": {},
     "output_type": "execute_result"
    }
   ],
   "source": [
    "cur.executemany(\"INSERT INTO person (first_name, last_name, age, height, weight, country_code) VALUES (?, ?, ?, ?, ?, ?);\", \n",
    "                populate_table(flat[[\"first\", \"last\", \"age\", \"height\", \"weight\", \"code\"]]))"
   ]
  },
  {
   "cell_type": "markdown",
   "metadata": {},
   "source": [
    "Salary Table:"
   ]
  },
  {
   "cell_type": "code",
   "execution_count": 8,
   "metadata": {
    "collapsed": false
   },
   "outputs": [
    {
     "data": {
      "text/plain": [
       "<sqlite3.Cursor at 0x7f9107add260>"
      ]
     },
     "execution_count": 8,
     "metadata": {},
     "output_type": "execute_result"
    }
   ],
   "source": [
    "cur.execute(\"DROP TABLE IF EXISTS salary\")\n",
    "cur.execute(\"\"\"CREATE TABLE salary (\n",
    "\n",
    "    salary_id INTEGER PRIMARY KEY,\n",
    "    salary_amount INTEGER,\n",
    "    FOREIGN KEY (salary_id) REFERENCES person (person_id)\n",
    "    )\"\"\")"
   ]
  },
  {
   "cell_type": "code",
   "execution_count": 9,
   "metadata": {
    "collapsed": false
   },
   "outputs": [
    {
     "data": {
      "text/plain": [
       "<sqlite3.Cursor at 0x7f9107add260>"
      ]
     },
     "execution_count": 9,
     "metadata": {},
     "output_type": "execute_result"
    }
   ],
   "source": [
    "# Note: Make sure you've run the code at the beginning that instructs sqlite how to handle numpy integers\n",
    "# Otherwise, this code will populate the table with byte values of the numpy integers\n",
    "cur.executemany(\"INSERT INTO salary (salary_amount) VALUES (?);\", populate_table(flat[[\"salary\"]]))"
   ]
  },
  {
   "cell_type": "markdown",
   "metadata": {},
   "source": [
    "Nation Table:"
   ]
  },
  {
   "cell_type": "code",
   "execution_count": 10,
   "metadata": {
    "collapsed": false
   },
   "outputs": [
    {
     "data": {
      "text/plain": [
       "<sqlite3.Cursor at 0x7f9107add260>"
      ]
     },
     "execution_count": 10,
     "metadata": {},
     "output_type": "execute_result"
    }
   ],
   "source": [
    "cur.execute(\"DROP TABLE IF EXISTS nation\")\n",
    "cur.execute(\"\"\"CREATE TABLE nation (\n",
    "\n",
    "    country_code varchar(255) PRIMARY KEY,\n",
    "    country_name varchar(255),\n",
    "    nationality varchar(255)\n",
    "    )\"\"\")"
   ]
  },
  {
   "cell_type": "markdown",
   "metadata": {},
   "source": [
    "Notice the errors:"
   ]
  },
  {
   "cell_type": "code",
   "execution_count": 11,
   "metadata": {
    "collapsed": false
   },
   "outputs": [
    {
     "data": {
      "text/html": [
       "<div>\n",
       "<style scoped>\n",
       "    .dataframe tbody tr th:only-of-type {\n",
       "        vertical-align: middle;\n",
       "    }\n",
       "\n",
       "    .dataframe tbody tr th {\n",
       "        vertical-align: top;\n",
       "    }\n",
       "\n",
       "    .dataframe thead th {\n",
       "        text-align: right;\n",
       "    }\n",
       "</style>\n",
       "<table border=\"1\" class=\"dataframe\">\n",
       "  <thead>\n",
       "    <tr style=\"text-align: right;\">\n",
       "      <th></th>\n",
       "      <th>code</th>\n",
       "      <th>country</th>\n",
       "      <th>nationality</th>\n",
       "    </tr>\n",
       "  </thead>\n",
       "  <tbody>\n",
       "    <tr>\n",
       "      <th>5</th>\n",
       "      <td>CM</td>\n",
       "      <td>Cambodia</td>\n",
       "      <td>Cambodian</td>\n",
       "    </tr>\n",
       "    <tr>\n",
       "      <th>6</th>\n",
       "      <td>CM</td>\n",
       "      <td>Cameroon</td>\n",
       "      <td>Cameroonian</td>\n",
       "    </tr>\n",
       "  </tbody>\n",
       "</table>\n",
       "</div>"
      ],
      "text/plain": [
       "  code   country  nationality\n",
       "5   CM  Cambodia    Cambodian\n",
       "6   CM  Cameroon  Cameroonian"
      ]
     },
     "execution_count": 11,
     "metadata": {},
     "output_type": "execute_result"
    }
   ],
   "source": [
    "tmp = flat[[\"code\", \"country\", \"nationality\"]].drop_duplicates().copy()\n",
    "tmp[4:6]"
   ]
  },
  {
   "cell_type": "code",
   "execution_count": 12,
   "metadata": {
    "collapsed": false
   },
   "outputs": [
    {
     "data": {
      "text/html": [
       "<div>\n",
       "<style scoped>\n",
       "    .dataframe tbody tr th:only-of-type {\n",
       "        vertical-align: middle;\n",
       "    }\n",
       "\n",
       "    .dataframe tbody tr th {\n",
       "        vertical-align: top;\n",
       "    }\n",
       "\n",
       "    .dataframe thead th {\n",
       "        text-align: right;\n",
       "    }\n",
       "</style>\n",
       "<table border=\"1\" class=\"dataframe\">\n",
       "  <thead>\n",
       "    <tr style=\"text-align: right;\">\n",
       "      <th></th>\n",
       "      <th>code</th>\n",
       "      <th>country</th>\n",
       "      <th>nationality</th>\n",
       "    </tr>\n",
       "  </thead>\n",
       "  <tbody>\n",
       "    <tr>\n",
       "      <th>11</th>\n",
       "      <td>CH</td>\n",
       "      <td>China</td>\n",
       "      <td>Chinese</td>\n",
       "    </tr>\n",
       "  </tbody>\n",
       "</table>\n",
       "</div>"
      ],
      "text/plain": [
       "   code country nationality\n",
       "11   CH   China     Chinese"
      ]
     },
     "execution_count": 12,
     "metadata": {},
     "output_type": "execute_result"
    }
   ],
   "source": [
    "tmp[8:9]"
   ]
  },
  {
   "cell_type": "code",
   "execution_count": 13,
   "metadata": {
    "collapsed": false
   },
   "outputs": [
    {
     "data": {
      "text/html": [
       "<div>\n",
       "<style scoped>\n",
       "    .dataframe tbody tr th:only-of-type {\n",
       "        vertical-align: middle;\n",
       "    }\n",
       "\n",
       "    .dataframe tbody tr th {\n",
       "        vertical-align: top;\n",
       "    }\n",
       "\n",
       "    .dataframe thead th {\n",
       "        text-align: right;\n",
       "    }\n",
       "</style>\n",
       "<table border=\"1\" class=\"dataframe\">\n",
       "  <thead>\n",
       "    <tr style=\"text-align: right;\">\n",
       "      <th></th>\n",
       "      <th>code</th>\n",
       "      <th>country</th>\n",
       "      <th>nationality</th>\n",
       "    </tr>\n",
       "  </thead>\n",
       "  <tbody>\n",
       "    <tr>\n",
       "      <th>25</th>\n",
       "      <td>CH</td>\n",
       "      <td>Switzerland</td>\n",
       "      <td>Swiss</td>\n",
       "    </tr>\n",
       "  </tbody>\n",
       "</table>\n",
       "</div>"
      ],
      "text/plain": [
       "   code      country nationality\n",
       "25   CH  Switzerland       Swiss"
      ]
     },
     "execution_count": 13,
     "metadata": {},
     "output_type": "execute_result"
    }
   ],
   "source": [
    "tmp[16:17]"
   ]
  },
  {
   "cell_type": "markdown",
   "metadata": {},
   "source": [
    "Notice that there are two CMs, one for Cambodia and one for Cameroon. Cliburn mentioned that this is an error, therefore I will change Cambodia to KH.\n",
    "Additionally, there are two CH's: one for China and one for Switzerland. I will therefore change China to CN."
   ]
  },
  {
   "cell_type": "code",
   "execution_count": 14,
   "metadata": {
    "collapsed": true
   },
   "outputs": [],
   "source": [
    "tmp.iloc[4, 0] = \"KH\"\n",
    "tmp.iloc[8, 0] = \"CN\""
   ]
  },
  {
   "cell_type": "code",
   "execution_count": 15,
   "metadata": {
    "collapsed": false
   },
   "outputs": [
    {
     "data": {
      "text/plain": [
       "<sqlite3.Cursor at 0x7f9107add260>"
      ]
     },
     "execution_count": 15,
     "metadata": {},
     "output_type": "execute_result"
    }
   ],
   "source": [
    "cur.executemany(\"INSERT INTO nation (country_code, country_name, nationality) VALUES (?, ?, ?);\", \n",
    "                populate_table(tmp)) "
   ]
  },
  {
   "cell_type": "markdown",
   "metadata": {},
   "source": [
    "Person_Language Table:"
   ]
  },
  {
   "cell_type": "code",
   "execution_count": 16,
   "metadata": {
    "collapsed": false
   },
   "outputs": [
    {
     "data": {
      "text/plain": [
       "<sqlite3.Cursor at 0x7f9107add260>"
      ]
     },
     "execution_count": 16,
     "metadata": {},
     "output_type": "execute_result"
    }
   ],
   "source": [
    "cur.execute(\"DROP TABLE IF EXISTS person_language\")\n",
    "cur.execute(\"\"\"CREATE TABLE person_language (\n",
    "    \n",
    "    person_id     INTEGER,\n",
    "    language_id INTEGER,\n",
    "    FOREIGN KEY (person_id) REFERENCES person (person_id),\n",
    "    FOREIGN KEY (language_id) REFERENCES language (language_id)\n",
    "    )\"\"\")"
   ]
  },
  {
   "cell_type": "code",
   "execution_count": 17,
   "metadata": {
    "collapsed": true
   },
   "outputs": [],
   "source": [
    "# Create an index column for the proper mapping of persons\n",
    "flat['pid'] = range(1, len(flat) + 1)"
   ]
  },
  {
   "cell_type": "code",
   "execution_count": 18,
   "metadata": {
    "collapsed": true
   },
   "outputs": [],
   "source": [
    "# Create a dataframe with unique languages\n",
    "languages = flat.melt(id_vars=[\"name\"], value_vars=[\"language1\", \"language2\", \"language3\"])[[\"value\"]].dropna().drop_duplicates()\n",
    "# Create an index column for the proper mapping of languages\n",
    "languages['lid'] = range(1, len(languages) + 1)"
   ]
  },
  {
   "cell_type": "code",
   "execution_count": 19,
   "metadata": {
    "collapsed": true
   },
   "outputs": [],
   "source": [
    "person_languages = flat.melt(id_vars=[\"pid\", \"name\"], value_vars=[\"language1\", \"language2\", \"language3\"]).dropna()"
   ]
  },
  {
   "cell_type": "code",
   "execution_count": 20,
   "metadata": {
    "collapsed": true
   },
   "outputs": [],
   "source": [
    "# Our joint table for person_language table\n",
    "pid_lid = person_languages.merge(languages, on = \"value\", how = \"inner\").sort_values(\"pid\")[['pid', 'lid']]"
   ]
  },
  {
   "cell_type": "code",
   "execution_count": 21,
   "metadata": {
    "collapsed": false
   },
   "outputs": [
    {
     "data": {
      "text/plain": [
       "<sqlite3.Cursor at 0x7f9107add260>"
      ]
     },
     "execution_count": 21,
     "metadata": {},
     "output_type": "execute_result"
    }
   ],
   "source": [
    "cur.executemany(\"INSERT INTO person_language (person_id, language_id) VALUES (?, ?);\",\n",
    "               populate_table(pid_lid))"
   ]
  },
  {
   "cell_type": "markdown",
   "metadata": {},
   "source": [
    "Language Table:"
   ]
  },
  {
   "cell_type": "code",
   "execution_count": 22,
   "metadata": {
    "collapsed": false
   },
   "outputs": [
    {
     "data": {
      "text/plain": [
       "<sqlite3.Cursor at 0x7f9107add260>"
      ]
     },
     "execution_count": 22,
     "metadata": {},
     "output_type": "execute_result"
    }
   ],
   "source": [
    "cur.execute(\"DROP TABLE IF EXISTS language\")\n",
    "cur.execute(\"\"\"CREATE TABLE language (\n",
    "    language_id INTEGER PRIMARY KEY,\n",
    "    language_name varchar(255)\n",
    "    )\"\"\")\n",
    "# FOREIGN KEY (language_code) REFERENCES person_language (language_code)"
   ]
  },
  {
   "cell_type": "code",
   "execution_count": 23,
   "metadata": {
    "collapsed": false
   },
   "outputs": [
    {
     "data": {
      "text/plain": [
       "<sqlite3.Cursor at 0x7f9107add260>"
      ]
     },
     "execution_count": 23,
     "metadata": {},
     "output_type": "execute_result"
    }
   ],
   "source": [
    "cur.executemany(\"INSERT INTO language (language_name) VALUES (?);\", \n",
    "               populate_table(languages[[\"value\"]]))"
   ]
  },
  {
   "cell_type": "markdown",
   "metadata": {},
   "source": [
    "### Check if tables function properly"
   ]
  },
  {
   "cell_type": "markdown",
   "metadata": {},
   "source": [
    "Check if person-person_language-language relationship (many to many) works:"
   ]
  },
  {
   "cell_type": "code",
   "execution_count": 24,
   "metadata": {
    "collapsed": false
   },
   "outputs": [
    {
     "data": {
      "text/plain": [
       "[('Aaron', 'Alexander', 'Haskell'),\n",
       " ('Aaron', 'Kirby', 'GNU Octave'),\n",
       " ('Aaron', 'Kirby', 'Falcon'),\n",
       " ('Aaron', 'Kirby', 'haXe'),\n",
       " ('Abram', 'Allen', 'TypeScript'),\n",
       " ('Abram', 'Boyer', 'Io'),\n",
       " ('Abram', 'Boyer', 'Lua'),\n",
       " ('Abram', 'Boyer', 'Falcon'),\n",
       " ('Adaline', 'Barry', 'Racket'),\n",
       " ('Adam', 'Lawrence', 'Perl')]"
      ]
     },
     "execution_count": 24,
     "metadata": {},
     "output_type": "execute_result"
    }
   ],
   "source": [
    "cur.execute(\"\"\"SELECT first_name, last_name, language_name \n",
    "            FROM person \n",
    "            INNER JOIN person_language\n",
    "                ON person.person_id = person_language.person_id\n",
    "            INNER JOIN language\n",
    "                ON person_language.language_id = language.language_id\n",
    "            LIMIT 10;\"\"\")\n",
    "cur.fetchall()"
   ]
  },
  {
   "cell_type": "markdown",
   "metadata": {},
   "source": [
    "Check if person-salary relationship (one to one) works:"
   ]
  },
  {
   "cell_type": "code",
   "execution_count": 25,
   "metadata": {
    "collapsed": false
   },
   "outputs": [
    {
     "data": {
      "text/plain": [
       "[('Aaron', 'Alexander', 151000),\n",
       " ('Aaron', 'Kirby', 80000),\n",
       " ('Abram', 'Allen', 75000),\n",
       " ('Abram', 'Boyer', 76000),\n",
       " ('Adaline', 'Barry', 122000),\n",
       " ('Adam', 'Lawrence', 114000),\n",
       " ('Adam', 'Rush', 103000),\n",
       " ('Adan', 'Brown', 63000),\n",
       " ('Adelle', 'Duffy', 67000),\n",
       " ('Adena', 'Holland', 117000)]"
      ]
     },
     "execution_count": 25,
     "metadata": {},
     "output_type": "execute_result"
    }
   ],
   "source": [
    "cur.execute(\"\"\"SELECT first_name, last_name, salary_amount \n",
    "            FROM person \n",
    "            INNER JOIN salary\n",
    "            ON person.person_id = salary.salary_id\n",
    "            LIMIT 10;\"\"\")\n",
    "cur.fetchall()"
   ]
  },
  {
   "cell_type": "markdown",
   "metadata": {},
   "source": [
    "Check if person-nation relationship (one to many) works:"
   ]
  },
  {
   "cell_type": "code",
   "execution_count": 26,
   "metadata": {
    "collapsed": false
   },
   "outputs": [
    {
     "data": {
      "text/plain": [
       "[('Aaron', 'Alexander', 'British'),\n",
       " ('Aaron', 'Kirby', 'Spanish'),\n",
       " ('Abram', 'Allen', 'Italian'),\n",
       " ('Abram', 'Boyer', 'Italian'),\n",
       " ('Adaline', 'Barry', 'Uruguayan'),\n",
       " ('Adam', 'Lawrence', 'Cameroonian'),\n",
       " ('Adam', 'Rush', 'Cameroonian'),\n",
       " ('Adan', 'Brown', 'Belgian'),\n",
       " ('Adelle', 'Duffy', 'French'),\n",
       " ('Adena', 'Holland', 'Italian')]"
      ]
     },
     "execution_count": 26,
     "metadata": {},
     "output_type": "execute_result"
    }
   ],
   "source": [
    "cur.execute(\"\"\"SELECT first_name, last_name, nationality \n",
    "            FROM person \n",
    "            INNER JOIN nation\n",
    "            ON person.country_code = nation.country_code\n",
    "            LIMIT 10;\"\"\")\n",
    "cur.fetchall()"
   ]
  },
  {
   "cell_type": "code",
   "execution_count": 27,
   "metadata": {
    "collapsed": true
   },
   "outputs": [],
   "source": [
    "con.commit()"
   ]
  },
  {
   "cell_type": "markdown",
   "metadata": {},
   "source": [
    "**2**. 25 points\n",
    "\n",
    "We want to find potential mentors for Abram\tBoyer. Find all faculty members who know one or more of the same languages as Abram Boyer whose salary is at least $50,000 higher than his using SQL statements. Assume that the only information you have is that you need to find mentors meeting the criteria for the faculty member named `Abram Boyer`. In other words, the ONLY hard coded terms in your SQL query are `Abram` and `Boyer` and the salary differential.\n",
    "\n",
    "You can use the `sql` magic extension or the `sqlite3` driver for this question."
   ]
  },
  {
   "cell_type": "markdown",
   "metadata": {},
   "source": [
    "How much does Abram Boyer make?"
   ]
  },
  {
   "cell_type": "code",
   "execution_count": 28,
   "metadata": {
    "collapsed": false
   },
   "outputs": [
    {
     "data": {
      "text/plain": [
       "[('Abram', 'Boyer', 76000)]"
      ]
     },
     "execution_count": 28,
     "metadata": {},
     "output_type": "execute_result"
    }
   ],
   "source": [
    "cur.execute(\"\"\"SELECT first_name, last_name, salary_amount\n",
    "            FROM person\n",
    "            INNER JOIN salary\n",
    "                ON person.person_id = salary.salary_id\n",
    "            WHERE person.first_name = 'Abram'\n",
    "            AND person.last_name = 'Boyer'\"\"\")\n",
    "cur.fetchall()"
   ]
  },
  {
   "cell_type": "markdown",
   "metadata": {},
   "source": [
    "What languages does Abram Boyer know?"
   ]
  },
  {
   "cell_type": "code",
   "execution_count": 29,
   "metadata": {
    "collapsed": false
   },
   "outputs": [
    {
     "data": {
      "text/plain": [
       "[('Io',), ('Lua',), ('Falcon',)]"
      ]
     },
     "execution_count": 29,
     "metadata": {},
     "output_type": "execute_result"
    }
   ],
   "source": [
    "cur.execute(\"\"\"SELECT language_name\n",
    "                FROM language\n",
    "                INNER JOIN person_language\n",
    "                    ON language.language_id = person_language.language_id\n",
    "                INNER JOIN person\n",
    "                    ON person_language.person_id = person.person_id\n",
    "                WHERE person.first_name = 'Abram'\n",
    "                AND person.last_name = 'Boyer'\"\"\")\n",
    "cur.fetchall()"
   ]
  },
  {
   "cell_type": "code",
   "execution_count": 30,
   "metadata": {
    "collapsed": false
   },
   "outputs": [
    {
     "data": {
      "text/plain": [
       "[('Dawne', 'Knapp', 185000),\n",
       " ('Dong', 'Walton', 154000),\n",
       " ('Ellsworth', 'Jackson', 155000),\n",
       " ('Everette', 'Garrison', 126000),\n",
       " ('Guillermo', 'Herring', 162000),\n",
       " ('Hai', 'Myers', 130000),\n",
       " ('Jama', 'Ware', 175000),\n",
       " ('Janessa', 'Chan', 170000),\n",
       " ('Jarrod', 'Hall', 143000),\n",
       " ('Jesenia', 'Wynn', 145000),\n",
       " ('Kermit', 'Pruitt', 139000),\n",
       " ('Kip', 'Glenn', 127000),\n",
       " ('Lenard', 'Holt', 129000),\n",
       " ('Leonia', 'Johnson', 165000),\n",
       " ('Lurlene', 'Martin', 142000),\n",
       " ('Natashia', 'Dodson', 140000),\n",
       " ('Retta', 'Stewart', 143000),\n",
       " ('Reuben', 'Gay', 179000),\n",
       " ('Sang', 'Battle', 134000),\n",
       " ('Seth', 'Simpson', 163000),\n",
       " ('Timmy', 'Browning', 155000),\n",
       " ('Tobias', 'Burnett', 152000),\n",
       " ('Ula', 'Mayo', 129000),\n",
       " ('Vanita', 'Porter', 130000),\n",
       " ('Zane', 'Calhoun', 127000)]"
      ]
     },
     "execution_count": 30,
     "metadata": {},
     "output_type": "execute_result"
    }
   ],
   "source": [
    "cur.execute(\"\"\"SELECT DISTINCT first_name, last_name, salary_amount\n",
    "            FROM person\n",
    "            INNER JOIN salary\n",
    "                ON person.person_id = salary.salary_id\n",
    "            INNER JOIN person_language\n",
    "                ON person.person_id = person_language.person_id\n",
    "            INNER JOIN language\n",
    "                ON person_language.language_id = language.language_id\n",
    "            WHERE salary.salary_amount >= 50000 + \n",
    "                (SELECT salary_amount\n",
    "                FROM salary\n",
    "                INNER JOIN person\n",
    "                    ON person.person_id = salary.salary_id\n",
    "                WHERE person.first_name = 'Abram'\n",
    "                AND person.last_name = 'Boyer')\n",
    "            AND language.language_name IN \n",
    "                (SELECT language_name\n",
    "                FROM language\n",
    "                INNER JOIN person_language\n",
    "                    ON language.language_id = person_language.language_id\n",
    "                INNER JOIN person\n",
    "                    ON person_language.person_id = person.person_id\n",
    "                WHERE person.first_name = 'Abram'\n",
    "                AND person.last_name = 'Boyer')\n",
    "            \"\"\")\n",
    "cur.fetchall()"
   ]
  },
  {
   "cell_type": "code",
   "execution_count": 31,
   "metadata": {
    "collapsed": true
   },
   "outputs": [],
   "source": [
    "con.close()"
   ]
  }
 ],
 "metadata": {
  "kernelspec": {
   "display_name": "Python 3",
   "language": "python",
   "name": "python3"
  },
  "language_info": {
   "codemirror_mode": {
    "name": "ipython",
    "version": 3
   },
   "file_extension": ".py",
   "mimetype": "text/x-python",
   "name": "python",
   "nbconvert_exporter": "python",
   "pygments_lexer": "ipython3",
   "version": "3.5.2"
  }
 },
 "nbformat": 4,
 "nbformat_minor": 2
}
