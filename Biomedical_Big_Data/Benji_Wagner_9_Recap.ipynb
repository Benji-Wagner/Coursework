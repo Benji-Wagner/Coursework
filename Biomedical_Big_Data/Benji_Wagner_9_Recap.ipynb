{
 "cells": [
  {
   "cell_type": "markdown",
   "metadata": {},
   "source": [
    "# Assignment 10: Review\n",
    "\n",
    "We will review material covered so far in this course with short questions similar to what you might expect on the Final Exam. \n",
    "\n",
    "First review the lecture notes. Then try to do this assignment without referring to ANY external material to simulate exam conditions."
   ]
  },
  {
   "cell_type": "markdown",
   "metadata": {},
   "source": [
    "Setup for Q1"
   ]
  },
  {
   "cell_type": "code",
   "execution_count": 1,
   "metadata": {},
   "outputs": [],
   "source": [
    "%load_ext sql"
   ]
  },
  {
   "cell_type": "code",
   "execution_count": 2,
   "metadata": {},
   "outputs": [],
   "source": [
    "import pandas as pd\n",
    "import numpy as np"
   ]
  },
  {
   "cell_type": "code",
   "execution_count": 3,
   "metadata": {},
   "outputs": [],
   "source": [
    "from collections import OrderedDict"
   ]
  },
  {
   "cell_type": "code",
   "execution_count": 4,
   "metadata": {},
   "outputs": [],
   "source": [
    "pid = ['a', 'c', 'a', 'b', 'c', 'a', 'c', 'c', 'a', 'a', 'b', 'b']\n",
    "visit = [1, 1, 2, 1, 2, 3, 3, 4, 4, 5, 2, 3]\n",
    "n = len(pid)\n",
    "\n",
    "readings = pd.DataFrame(OrderedDict(pid=pid, visit=visit, sbp=np.random.normal(120, 25, n)))\n",
    "readings['dbp'] = readings.sbp - np.random.normal(40, 10, n)"
   ]
  },
  {
   "cell_type": "code",
   "execution_count": 5,
   "metadata": {},
   "outputs": [],
   "source": [
    "readings[['sbp', 'dbp']] = readings[['sbp', 'dbp']].astype('int')"
   ]
  },
  {
   "cell_type": "code",
   "execution_count": 6,
   "metadata": {},
   "outputs": [],
   "source": [
    "patients = pd.DataFrame(OrderedDict(pid=['a', 'b', 'c', 'd'], ages=[23,34,45,56]))"
   ]
  },
  {
   "cell_type": "code",
   "execution_count": 7,
   "metadata": {},
   "outputs": [
    {
     "data": {
      "text/plain": [
       "'Connected: @tables.db'"
      ]
     },
     "execution_count": 7,
     "metadata": {},
     "output_type": "execute_result"
    }
   ],
   "source": [
    "%sql sqlite:///tables.db"
   ]
  },
  {
   "cell_type": "code",
   "execution_count": 8,
   "metadata": {},
   "outputs": [
    {
     "name": "stdout",
     "output_type": "stream",
     "text": [
      " * sqlite:///tables.db\n",
      "Done.\n",
      " * sqlite:///tables.db\n"
     ]
    },
    {
     "data": {
      "text/plain": [
       "'Persisted patients'"
      ]
     },
     "execution_count": 8,
     "metadata": {},
     "output_type": "execute_result"
    }
   ],
   "source": [
    "%sql drop table patients\n",
    "%sql persist patients"
   ]
  },
  {
   "cell_type": "code",
   "execution_count": 9,
   "metadata": {},
   "outputs": [
    {
     "name": "stdout",
     "output_type": "stream",
     "text": [
      " * sqlite:///tables.db\n",
      "Done.\n",
      " * sqlite:///tables.db\n"
     ]
    },
    {
     "data": {
      "text/plain": [
       "'Persisted readings'"
      ]
     },
     "execution_count": 9,
     "metadata": {},
     "output_type": "execute_result"
    }
   ],
   "source": [
    "%sql drop table readings\n",
    "%sql persist readings"
   ]
  },
  {
   "cell_type": "code",
   "execution_count": 10,
   "metadata": {},
   "outputs": [
    {
     "name": "stdout",
     "output_type": "stream",
     "text": [
      " * sqlite:///tables.db\n",
      "Done.\n"
     ]
    },
    {
     "data": {
      "text/html": [
       "<table>\n",
       "    <tr>\n",
       "        <th>index</th>\n",
       "        <th>ages</th>\n",
       "        <th>pid</th>\n",
       "    </tr>\n",
       "    <tr>\n",
       "        <td>0</td>\n",
       "        <td>23</td>\n",
       "        <td>a</td>\n",
       "    </tr>\n",
       "    <tr>\n",
       "        <td>1</td>\n",
       "        <td>34</td>\n",
       "        <td>b</td>\n",
       "    </tr>\n",
       "    <tr>\n",
       "        <td>2</td>\n",
       "        <td>45</td>\n",
       "        <td>c</td>\n",
       "    </tr>\n",
       "    <tr>\n",
       "        <td>3</td>\n",
       "        <td>56</td>\n",
       "        <td>d</td>\n",
       "    </tr>\n",
       "</table>"
      ],
      "text/plain": [
       "[(0, 23, 'a'), (1, 34, 'b'), (2, 45, 'c'), (3, 56, 'd')]"
      ]
     },
     "execution_count": 10,
     "metadata": {},
     "output_type": "execute_result"
    }
   ],
   "source": [
    "%%sql\n",
    "\n",
    "select * from patients"
   ]
  },
  {
   "cell_type": "code",
   "execution_count": 11,
   "metadata": {},
   "outputs": [
    {
     "name": "stdout",
     "output_type": "stream",
     "text": [
      " * sqlite:///tables.db\n",
      "Done.\n"
     ]
    },
    {
     "data": {
      "text/html": [
       "<table>\n",
       "    <tr>\n",
       "        <th>index</th>\n",
       "        <th>visit</th>\n",
       "        <th>pid</th>\n",
       "        <th>sbp</th>\n",
       "        <th>dbp</th>\n",
       "    </tr>\n",
       "    <tr>\n",
       "        <td>0</td>\n",
       "        <td>1</td>\n",
       "        <td>a</td>\n",
       "        <td>112</td>\n",
       "        <td>79</td>\n",
       "    </tr>\n",
       "    <tr>\n",
       "        <td>1</td>\n",
       "        <td>1</td>\n",
       "        <td>c</td>\n",
       "        <td>104</td>\n",
       "        <td>56</td>\n",
       "    </tr>\n",
       "    <tr>\n",
       "        <td>2</td>\n",
       "        <td>2</td>\n",
       "        <td>a</td>\n",
       "        <td>126</td>\n",
       "        <td>116</td>\n",
       "    </tr>\n",
       "    <tr>\n",
       "        <td>3</td>\n",
       "        <td>1</td>\n",
       "        <td>b</td>\n",
       "        <td>70</td>\n",
       "        <td>32</td>\n",
       "    </tr>\n",
       "    <tr>\n",
       "        <td>4</td>\n",
       "        <td>2</td>\n",
       "        <td>c</td>\n",
       "        <td>126</td>\n",
       "        <td>76</td>\n",
       "    </tr>\n",
       "    <tr>\n",
       "        <td>5</td>\n",
       "        <td>3</td>\n",
       "        <td>a</td>\n",
       "        <td>129</td>\n",
       "        <td>89</td>\n",
       "    </tr>\n",
       "    <tr>\n",
       "        <td>6</td>\n",
       "        <td>3</td>\n",
       "        <td>c</td>\n",
       "        <td>171</td>\n",
       "        <td>129</td>\n",
       "    </tr>\n",
       "    <tr>\n",
       "        <td>7</td>\n",
       "        <td>4</td>\n",
       "        <td>c</td>\n",
       "        <td>115</td>\n",
       "        <td>74</td>\n",
       "    </tr>\n",
       "    <tr>\n",
       "        <td>8</td>\n",
       "        <td>4</td>\n",
       "        <td>a</td>\n",
       "        <td>146</td>\n",
       "        <td>85</td>\n",
       "    </tr>\n",
       "    <tr>\n",
       "        <td>9</td>\n",
       "        <td>5</td>\n",
       "        <td>a</td>\n",
       "        <td>136</td>\n",
       "        <td>103</td>\n",
       "    </tr>\n",
       "    <tr>\n",
       "        <td>10</td>\n",
       "        <td>2</td>\n",
       "        <td>b</td>\n",
       "        <td>138</td>\n",
       "        <td>87</td>\n",
       "    </tr>\n",
       "    <tr>\n",
       "        <td>11</td>\n",
       "        <td>3</td>\n",
       "        <td>b</td>\n",
       "        <td>143</td>\n",
       "        <td>105</td>\n",
       "    </tr>\n",
       "</table>"
      ],
      "text/plain": [
       "[(0, 1, 'a', 112, 79),\n",
       " (1, 1, 'c', 104, 56),\n",
       " (2, 2, 'a', 126, 116),\n",
       " (3, 1, 'b', 70, 32),\n",
       " (4, 2, 'c', 126, 76),\n",
       " (5, 3, 'a', 129, 89),\n",
       " (6, 3, 'c', 171, 129),\n",
       " (7, 4, 'c', 115, 74),\n",
       " (8, 4, 'a', 146, 85),\n",
       " (9, 5, 'a', 136, 103),\n",
       " (10, 2, 'b', 138, 87),\n",
       " (11, 3, 'b', 143, 105)]"
      ]
     },
     "execution_count": 11,
     "metadata": {},
     "output_type": "execute_result"
    }
   ],
   "source": [
    "%%sql \n",
    "\n",
    "select * from readings"
   ]
  },
  {
   "cell_type": "markdown",
   "metadata": {},
   "source": [
    "**1**. (20 points)\n",
    "\n",
    "- Write an SQL statement to merge the patient and pressure tables using an inner join\n",
    "- Write an SQL statement to find the average systolic (sbp) and diastolic (dbp) blood pressure for each patient, sorted in ascending order of sbp. The function to calculate averages in SQL is AVG.\n",
    "- (optional - ungraded) Write an SQL statement to find the running average of systolic blood pressure for each patient across successive visits. Show the following columns pid, visit, sbp and running average of sbp. (NOTE: This will no work unless you have the version 3.2.5 or higher of SQLite3 or swithc to a database like PostgreSQL - in particular, it will not work on Docker. Just write the SQL even if it does not execute.)"
   ]
  },
  {
   "cell_type": "code",
   "execution_count": 12,
   "metadata": {},
   "outputs": [
    {
     "name": "stdout",
     "output_type": "stream",
     "text": [
      " * sqlite:///tables.db\n",
      "Done.\n"
     ]
    },
    {
     "data": {
      "text/html": [
       "<table>\n",
       "    <tr>\n",
       "        <th>pid</th>\n",
       "        <th>ages</th>\n",
       "        <th>sbp</th>\n",
       "        <th>dbp</th>\n",
       "        <th>visit</th>\n",
       "    </tr>\n",
       "    <tr>\n",
       "        <td>a</td>\n",
       "        <td>23</td>\n",
       "        <td>112</td>\n",
       "        <td>79</td>\n",
       "        <td>1</td>\n",
       "    </tr>\n",
       "    <tr>\n",
       "        <td>c</td>\n",
       "        <td>45</td>\n",
       "        <td>104</td>\n",
       "        <td>56</td>\n",
       "        <td>1</td>\n",
       "    </tr>\n",
       "    <tr>\n",
       "        <td>a</td>\n",
       "        <td>23</td>\n",
       "        <td>126</td>\n",
       "        <td>116</td>\n",
       "        <td>2</td>\n",
       "    </tr>\n",
       "    <tr>\n",
       "        <td>b</td>\n",
       "        <td>34</td>\n",
       "        <td>70</td>\n",
       "        <td>32</td>\n",
       "        <td>1</td>\n",
       "    </tr>\n",
       "    <tr>\n",
       "        <td>c</td>\n",
       "        <td>45</td>\n",
       "        <td>126</td>\n",
       "        <td>76</td>\n",
       "        <td>2</td>\n",
       "    </tr>\n",
       "    <tr>\n",
       "        <td>a</td>\n",
       "        <td>23</td>\n",
       "        <td>129</td>\n",
       "        <td>89</td>\n",
       "        <td>3</td>\n",
       "    </tr>\n",
       "    <tr>\n",
       "        <td>c</td>\n",
       "        <td>45</td>\n",
       "        <td>171</td>\n",
       "        <td>129</td>\n",
       "        <td>3</td>\n",
       "    </tr>\n",
       "    <tr>\n",
       "        <td>c</td>\n",
       "        <td>45</td>\n",
       "        <td>115</td>\n",
       "        <td>74</td>\n",
       "        <td>4</td>\n",
       "    </tr>\n",
       "    <tr>\n",
       "        <td>a</td>\n",
       "        <td>23</td>\n",
       "        <td>146</td>\n",
       "        <td>85</td>\n",
       "        <td>4</td>\n",
       "    </tr>\n",
       "    <tr>\n",
       "        <td>a</td>\n",
       "        <td>23</td>\n",
       "        <td>136</td>\n",
       "        <td>103</td>\n",
       "        <td>5</td>\n",
       "    </tr>\n",
       "    <tr>\n",
       "        <td>b</td>\n",
       "        <td>34</td>\n",
       "        <td>138</td>\n",
       "        <td>87</td>\n",
       "        <td>2</td>\n",
       "    </tr>\n",
       "    <tr>\n",
       "        <td>b</td>\n",
       "        <td>34</td>\n",
       "        <td>143</td>\n",
       "        <td>105</td>\n",
       "        <td>3</td>\n",
       "    </tr>\n",
       "</table>"
      ],
      "text/plain": [
       "[('a', 23, 112, 79, 1),\n",
       " ('c', 45, 104, 56, 1),\n",
       " ('a', 23, 126, 116, 2),\n",
       " ('b', 34, 70, 32, 1),\n",
       " ('c', 45, 126, 76, 2),\n",
       " ('a', 23, 129, 89, 3),\n",
       " ('c', 45, 171, 129, 3),\n",
       " ('c', 45, 115, 74, 4),\n",
       " ('a', 23, 146, 85, 4),\n",
       " ('a', 23, 136, 103, 5),\n",
       " ('b', 34, 138, 87, 2),\n",
       " ('b', 34, 143, 105, 3)]"
      ]
     },
     "execution_count": 12,
     "metadata": {},
     "output_type": "execute_result"
    }
   ],
   "source": [
    "%%sql\n",
    "\n",
    "SELECT readings.pid, ages, sbp, dbp, visit FROM readings INNER JOIN patients\n",
    "ON readings.pid = patients.pid"
   ]
  },
  {
   "cell_type": "code",
   "execution_count": 13,
   "metadata": {},
   "outputs": [
    {
     "name": "stdout",
     "output_type": "stream",
     "text": [
      " * sqlite:///tables.db\n",
      "Done.\n"
     ]
    },
    {
     "data": {
      "text/html": [
       "<table>\n",
       "    <tr>\n",
       "        <th>pid</th>\n",
       "        <th>AVG(sbp)</th>\n",
       "        <th>AVG(dbp)</th>\n",
       "    </tr>\n",
       "    <tr>\n",
       "        <td>b</td>\n",
       "        <td>117.0</td>\n",
       "        <td>74.66666666666667</td>\n",
       "    </tr>\n",
       "    <tr>\n",
       "        <td>c</td>\n",
       "        <td>129.0</td>\n",
       "        <td>83.75</td>\n",
       "    </tr>\n",
       "    <tr>\n",
       "        <td>a</td>\n",
       "        <td>129.8</td>\n",
       "        <td>94.4</td>\n",
       "    </tr>\n",
       "</table>"
      ],
      "text/plain": [
       "[('b', 117.0, 74.66666666666667), ('c', 129.0, 83.75), ('a', 129.8, 94.4)]"
      ]
     },
     "execution_count": 13,
     "metadata": {},
     "output_type": "execute_result"
    }
   ],
   "source": [
    "%%sql\n",
    "\n",
    "SELECT pid, AVG(sbp), AVG(dbp) \n",
    "FROM readings\n",
    "GROUP BY pid\n",
    "ORDER BY AVG(sbp)"
   ]
  },
  {
   "cell_type": "markdown",
   "metadata": {},
   "source": [
    "**2**. (30 points)\n",
    "\n",
    "- Use a raw count bag of words model for unigrams and bigrams to generate feature vectors for these two documents. For simplicity, you may tokenize by removing punctuation, splitting by white space to find words, and converting all words to lowercase. \n",
    "- Implement a function to calculate cosine *similarity* between two vectors without using any trigonometric functions, built-in distance functions or linear algebra modules. Find the cosine similarity between the two documents. Recall that the cosine similarity is the dot product of two unit vectors.\n",
    "\n",
    "Only use the Python standard library and `numpy` to do this exercise."
   ]
  },
  {
   "cell_type": "code",
   "execution_count": 14,
   "metadata": {},
   "outputs": [],
   "source": [
    "doc1 = \"\"\"As I was going by Charing Cross,\n",
    "I saw a black man upon a black horse;\n",
    "They told me it was King Charles the First-\n",
    "Oh dear, my heart was ready to burst!\"\"\"\n",
    "\n",
    "doc2 = \"\"\"As I was going to St. Ives,\n",
    "I met a man with seven wives,\n",
    "Each wife had seven sacks,\n",
    "Each sack had seven cats,\n",
    "Each cat had seven kits:\n",
    "Kits, cats, sacks, and wives,\n",
    "How many were there going to St. Ives\"\"\""
   ]
  },
  {
   "cell_type": "code",
   "execution_count": 15,
   "metadata": {},
   "outputs": [],
   "source": [
    "def clean(string):\n",
    "    return(string.replace(\",\", \"\").replace(\";\", \"\").replace(\"!\", \"\").replace(\"-\", \"\").replace(\".\", \"\").replace(\":\", \"\").lower().split())"
   ]
  },
  {
   "cell_type": "code",
   "execution_count": 16,
   "metadata": {},
   "outputs": [],
   "source": [
    "def bigrams(input_list):\n",
    "    bigram_list = []\n",
    "    separator = \" \"\n",
    "    for i in range(len(input_list) - 1):\n",
    "        bigram_list.append(separator.join([input_list[i], input_list[i+1]]))\n",
    "    return(bigram_list)"
   ]
  },
  {
   "cell_type": "code",
   "execution_count": 17,
   "metadata": {},
   "outputs": [],
   "source": [
    "doc1_list = clean(doc1)\n",
    "doc2_list = clean(doc2)"
   ]
  },
  {
   "cell_type": "code",
   "execution_count": 18,
   "metadata": {},
   "outputs": [],
   "source": [
    "doc1_bag = dict()\n",
    "doc2_bag = dict()\n",
    "for i in doc1_list:\n",
    "    doc1_bag[i] = doc1_bag.get(i, 0) + 1\n",
    "for j in doc2_list:\n",
    "    doc2_bag[j] = doc2_bag.get(j, 0) + 1\n",
    "for k in bigrams(doc1_list):\n",
    "    doc1_bag[k] = doc1_bag.get(k, 0) + 1\n",
    "for m in bigrams(doc2_list):\n",
    "    doc2_bag[m] = doc2_bag.get(m, 0) + 1"
   ]
  },
  {
   "cell_type": "code",
   "execution_count": 19,
   "metadata": {},
   "outputs": [],
   "source": [
    "feature_vectors = pd.DataFrame.from_dict([doc1_bag, doc2_bag]).fillna(0).T\n",
    "feature_vectors.columns = ['doc1', 'doc2']"
   ]
  },
  {
   "cell_type": "code",
   "execution_count": 20,
   "metadata": {},
   "outputs": [
    {
     "data": {
      "text/html": [
       "<div>\n",
       "<style scoped>\n",
       "    .dataframe tbody tr th:only-of-type {\n",
       "        vertical-align: middle;\n",
       "    }\n",
       "\n",
       "    .dataframe tbody tr th {\n",
       "        vertical-align: top;\n",
       "    }\n",
       "\n",
       "    .dataframe thead th {\n",
       "        text-align: right;\n",
       "    }\n",
       "</style>\n",
       "<table border=\"1\" class=\"dataframe\">\n",
       "  <thead>\n",
       "    <tr style=\"text-align: right;\">\n",
       "      <th></th>\n",
       "      <th>doc1</th>\n",
       "      <th>doc2</th>\n",
       "    </tr>\n",
       "  </thead>\n",
       "  <tbody>\n",
       "    <tr>\n",
       "      <th>a</th>\n",
       "      <td>2.0</td>\n",
       "      <td>1.0</td>\n",
       "    </tr>\n",
       "    <tr>\n",
       "      <th>a black</th>\n",
       "      <td>2.0</td>\n",
       "      <td>0.0</td>\n",
       "    </tr>\n",
       "    <tr>\n",
       "      <th>a man</th>\n",
       "      <td>0.0</td>\n",
       "      <td>1.0</td>\n",
       "    </tr>\n",
       "    <tr>\n",
       "      <th>and</th>\n",
       "      <td>0.0</td>\n",
       "      <td>1.0</td>\n",
       "    </tr>\n",
       "    <tr>\n",
       "      <th>and wives</th>\n",
       "      <td>0.0</td>\n",
       "      <td>1.0</td>\n",
       "    </tr>\n",
       "  </tbody>\n",
       "</table>\n",
       "</div>"
      ],
      "text/plain": [
       "           doc1  doc2\n",
       "a           2.0   1.0\n",
       "a black     2.0   0.0\n",
       "a man       0.0   1.0\n",
       "and         0.0   1.0\n",
       "and wives   0.0   1.0"
      ]
     },
     "execution_count": 20,
     "metadata": {},
     "output_type": "execute_result"
    }
   ],
   "source": [
    "feature_vectors.head()"
   ]
  },
  {
   "cell_type": "code",
   "execution_count": 21,
   "metadata": {},
   "outputs": [],
   "source": [
    "doc1_vector = feature_vectors['doc1'].values\n",
    "doc2_vector = feature_vectors['doc2'].values"
   ]
  },
  {
   "cell_type": "code",
   "execution_count": 22,
   "metadata": {},
   "outputs": [],
   "source": [
    "def norm(vector):\n",
    "    \"norm takes a 1-D numpy array and returns the norm of the vector since we are not allowed to use numpy.linalg.norm\"\n",
    "    return(np.sqrt((vector**2).sum()))"
   ]
  },
  {
   "cell_type": "code",
   "execution_count": 23,
   "metadata": {},
   "outputs": [],
   "source": [
    "def cosine_similarity(vector1, vector2):\n",
    "    \"\"\"cosine_similarity takes two 1-D numpy arrays, normalizes them into unit vectors, and then\n",
    "    takes the dot product to find the cosine similarity between the two vectors\"\"\"\n",
    "    \n",
    "    vector1 = vector1 / norm(vector1)\n",
    "    vector2 = vector2 / norm(vector2)\n",
    "    return(np.dot(vector1, vector2))"
   ]
  },
  {
   "cell_type": "code",
   "execution_count": 24,
   "metadata": {},
   "outputs": [
    {
     "data": {
      "text/plain": [
       "0.1730209434769125"
      ]
     },
     "execution_count": 24,
     "metadata": {},
     "output_type": "execute_result"
    }
   ],
   "source": [
    "cosine_similarity(doc1_vector, doc2_vector)"
   ]
  },
  {
   "cell_type": "markdown",
   "metadata": {},
   "source": [
    "**3**. (30 points)\n",
    "\n",
    "- Fit polynomials of order 2, 3 and 4 to the data set `x` and `y` by solving the normal equations $(X^TX) \\hat{\\beta} = X^Ty$. \n",
    "- Plot the fit against the data for each model.\n",
    "- Calculate the sum of squares error for each model using leave one out cross-validation.\n",
    "\n",
    "You may use `numpy.linalg` for this."
   ]
  },
  {
   "cell_type": "code",
   "execution_count": 25,
   "metadata": {},
   "outputs": [],
   "source": [
    "import matplotlib.pyplot as plt\n",
    "from sklearn.model_selection import KFold"
   ]
  },
  {
   "cell_type": "code",
   "execution_count": 26,
   "metadata": {},
   "outputs": [],
   "source": [
    "x = np.array([4.17022005e+00, 7.20324493e+00, 1.14374817e-03, 3.02332573e+00,\n",
    "       1.46755891e+00, 9.23385948e-01, 1.86260211e+00, 3.45560727e+00,\n",
    "       3.96767474e+00, 5.38816734e+00])\n",
    "y = np.array([29.05627699, 22.38450486,  3.33047527, 23.84338844, 16.98396787,\n",
    "        9.32107716, 17.8343173 , 25.23079674, 28.068074  , 26.74943485])"
   ]
  },
  {
   "cell_type": "code",
   "execution_count": 27,
   "metadata": {},
   "outputs": [],
   "source": [
    "kf = KFold(n_splits = len(x)) # LOOCV"
   ]
  },
  {
   "cell_type": "markdown",
   "metadata": {},
   "source": [
    "Order 2:"
   ]
  },
  {
   "cell_type": "code",
   "execution_count": 28,
   "metadata": {},
   "outputs": [],
   "source": [
    "X_2 = np.vstack([np.ones_like(x), x, x**2]).T\n",
    "beta = np.linalg.solve(X_2.T @ X_2, X_2.T @ y)"
   ]
  },
  {
   "cell_type": "code",
   "execution_count": 29,
   "metadata": {},
   "outputs": [
    {
     "data": {
      "image/png": "[encoded data removed]",
      "text/plain": [
       "<Figure size 432x288 with 1 Axes>"
      ]
     },
     "metadata": {},
     "output_type": "display_data"
    }
   ],
   "source": [
    "xs = np.linspace(-1, 10)\n",
    "ys = np.vstack([np.ones_like(xs), xs, xs**2]).T @ beta\n",
    "\n",
    "plt.plot(xs, ys, 'r--');\n",
    "plt.scatter(x, y);"
   ]
  },
  {
   "cell_type": "code",
   "execution_count": 30,
   "metadata": {},
   "outputs": [],
   "source": [
    "sse = np.empty([10, 2])\n",
    "for train_indices, test_indices in kf.split(x, y):\n",
    "    X_train = np.vstack([np.ones_like(x[train_indices]), x[train_indices], x[train_indices]**2]).T\n",
    "    beta = np.linalg.solve(X_train.T @ X_train, X_train.T @ y[train_indices])\n",
    "    \n",
    "    X_test = np.array([np.ones_like(x[test_indices]), x[test_indices], x[test_indices]**2])\n",
    "    y_pred = X_test.T @ beta\n",
    "    \n",
    "    sse[test_indices, :] = [((y[test_indices] - y_pred)**2).sum(), test_indices]"
   ]
  },
  {
   "cell_type": "markdown",
   "metadata": {},
   "source": [
    "SSE's for each K-Fold:"
   ]
  },
  {
   "cell_type": "code",
   "execution_count": 31,
   "metadata": {},
   "outputs": [
    {
     "data": {
      "text/plain": [
       "array([3.47523576, 0.42352807, 4.47311115, 0.43557419, 2.86776497,\n",
       "       6.49503025, 0.30540979, 0.70276648, 1.15868664, 1.88419979])"
      ]
     },
     "execution_count": 31,
     "metadata": {},
     "output_type": "execute_result"
    }
   ],
   "source": [
    "sse[:, 0]"
   ]
  },
  {
   "cell_type": "markdown",
   "metadata": {},
   "source": [
    "Average SSE across all K-Folds:"
   ]
  },
  {
   "cell_type": "code",
   "execution_count": 32,
   "metadata": {},
   "outputs": [
    {
     "data": {
      "text/plain": [
       "2.222130709444699"
      ]
     },
     "execution_count": 32,
     "metadata": {},
     "output_type": "execute_result"
    }
   ],
   "source": [
    "sse[:, 0].mean()"
   ]
  },
  {
   "cell_type": "markdown",
   "metadata": {},
   "source": [
    "Order 3:"
   ]
  },
  {
   "cell_type": "code",
   "execution_count": 33,
   "metadata": {},
   "outputs": [],
   "source": [
    "X_3 = np.vstack([np.ones_like(x), x, x**2, x**3]).T\n",
    "beta = np.linalg.solve(X_3.T @ X_3, X_3.T @ y)"
   ]
  },
  {
   "cell_type": "code",
   "execution_count": 34,
   "metadata": {},
   "outputs": [
    {
     "data": {
      "image/png": "[encoded data removed]",
      "text/plain": [
       "<Figure size 432x288 with 1 Axes>"
      ]
     },
     "metadata": {},
     "output_type": "display_data"
    }
   ],
   "source": [
    "xs = np.linspace(-1, 10)\n",
    "ys = np.vstack([np.ones_like(xs), xs, xs**2, xs**3]).T @ beta\n",
    "\n",
    "plt.plot(xs, ys, 'r--');\n",
    "plt.scatter(x, y);"
   ]
  },
  {
   "cell_type": "code",
   "execution_count": 35,
   "metadata": {},
   "outputs": [],
   "source": [
    "sse = np.empty([10, 2])\n",
    "for train_indices, test_indices in kf.split(x, y):\n",
    "    X_train = np.vstack([np.ones_like(x[train_indices]), \n",
    "                         x[train_indices], x[train_indices]**2, x[train_indices]**3]).T\n",
    "    beta = np.linalg.solve(X_train.T @ X_train, X_train.T @ y[train_indices])\n",
    "    \n",
    "    X_test = np.array([np.ones_like(x[test_indices]), \n",
    "                       x[test_indices], x[test_indices]**2, x[test_indices]**3])\n",
    "    y_pred = X_test.T @ beta\n",
    "    \n",
    "    sse[test_indices, :] = [((y[test_indices] - y_pred)**2).sum(), test_indices]"
   ]
  },
  {
   "cell_type": "markdown",
   "metadata": {},
   "source": [
    "SSE's for each K-Fold:"
   ]
  },
  {
   "cell_type": "code",
   "execution_count": 36,
   "metadata": {},
   "outputs": [
    {
     "data": {
      "text/plain": [
       "array([ 3.38068694, 77.9324561 , 18.98448437,  0.33385374,  4.96260896,\n",
       "        6.4234048 ,  0.14981008,  0.68982706,  1.00628048,  5.77180336])"
      ]
     },
     "execution_count": 36,
     "metadata": {},
     "output_type": "execute_result"
    }
   ],
   "source": [
    "sse[:, 0]"
   ]
  },
  {
   "cell_type": "markdown",
   "metadata": {},
   "source": [
    "Average SSE across all K-Folds:"
   ]
  },
  {
   "cell_type": "code",
   "execution_count": 37,
   "metadata": {},
   "outputs": [
    {
     "data": {
      "text/plain": [
       "11.963521588847131"
      ]
     },
     "execution_count": 37,
     "metadata": {},
     "output_type": "execute_result"
    }
   ],
   "source": [
    "sse[:, 0].mean()"
   ]
  },
  {
   "cell_type": "markdown",
   "metadata": {},
   "source": [
    "Order 4:"
   ]
  },
  {
   "cell_type": "code",
   "execution_count": 38,
   "metadata": {},
   "outputs": [],
   "source": [
    "X_4 = np.vstack([np.ones_like(x), x, x**2, x**3, x**4]).T\n",
    "beta = np.linalg.solve(X_4.T @ X_4, X_4.T @ y)"
   ]
  },
  {
   "cell_type": "code",
   "execution_count": 39,
   "metadata": {},
   "outputs": [
    {
     "data": {
      "image/png": "[encoded data removed]",
      "text/plain": [
       "<Figure size 432x288 with 1 Axes>"
      ]
     },
     "metadata": {},
     "output_type": "display_data"
    }
   ],
   "source": [
    "xs = np.linspace(-1, 10)\n",
    "ys = np.vstack([np.ones_like(xs), xs, xs**2, xs**3, xs**4]).T @ beta\n",
    "\n",
    "plt.plot(xs, ys, 'r--');\n",
    "plt.scatter(x, y);"
   ]
  },
  {
   "cell_type": "code",
   "execution_count": 40,
   "metadata": {},
   "outputs": [],
   "source": [
    "sse = np.empty([10, 2])\n",
    "for train_indices, test_indices in kf.split(x, y):\n",
    "    X_train = np.vstack([np.ones_like(x[train_indices]), \n",
    "                         x[train_indices], x[train_indices]**2, x[train_indices]**3, x[train_indices]**4]).T\n",
    "    beta = np.linalg.solve(X_train.T @ X_train, X_train.T @ y[train_indices])\n",
    "    \n",
    "    X_test = np.array([np.ones_like(x[test_indices]), \n",
    "                       x[test_indices], x[test_indices]**2, x[test_indices]**3, x[test_indices]**4])\n",
    "    y_pred = X_test.T @ beta\n",
    "    \n",
    "    sse[test_indices, :] = [((y[test_indices] - y_pred)**2).sum(), test_indices]"
   ]
  },
  {
   "cell_type": "markdown",
   "metadata": {},
   "source": [
    "SSE's for each K-Fold:"
   ]
  },
  {
   "cell_type": "code",
   "execution_count": 41,
   "metadata": {},
   "outputs": [
    {
     "data": {
      "text/plain": [
       "array([2.84055692e+00, 4.52538953e+02, 2.30877244e+01, 1.48676641e+00,\n",
       "       9.15148864e+00, 5.37983920e+00, 4.04908174e-02, 2.30370988e+00,\n",
       "       5.21496510e-01, 1.32546463e+01])"
      ]
     },
     "execution_count": 41,
     "metadata": {},
     "output_type": "execute_result"
    }
   ],
   "source": [
    "sse[:, 0]"
   ]
  },
  {
   "cell_type": "markdown",
   "metadata": {},
   "source": [
    "Average SSE across all K-Folds:"
   ]
  },
  {
   "cell_type": "code",
   "execution_count": 42,
   "metadata": {},
   "outputs": [
    {
     "data": {
      "text/plain": [
       "51.06056720871506"
      ]
     },
     "execution_count": 42,
     "metadata": {},
     "output_type": "execute_result"
    }
   ],
   "source": [
    "sse[:, 0].mean()"
   ]
  },
  {
   "cell_type": "markdown",
   "metadata": {},
   "source": [
    "The model with the lowest average SSE is the order 2 polynomial."
   ]
  },
  {
   "cell_type": "markdown",
   "metadata": {},
   "source": [
    "**4** (20 points)\n",
    "\n",
    "- Write a gradient descent algorithm to fit a cubic polynomial to the data from question 3. Use a learning rate of 1e-5 and 1 million iterations, and start with a $\\beta_0 = (1,10,1,1)$\n",
    "- Use a JIT decorator to create a compiled version and report the fold-change improvement in run time. Use the timeit.timeit function with argument `number=1`, and use a lambda function to pass in a function that takes 0 arguments.\n",
    "- Plot the fitted curve"
   ]
  },
  {
   "cell_type": "code",
   "execution_count": 43,
   "metadata": {},
   "outputs": [],
   "source": [
    "from numba import jit, float64, int64\n",
    "import timeit"
   ]
  },
  {
   "cell_type": "code",
   "execution_count": 44,
   "metadata": {},
   "outputs": [],
   "source": [
    "def gd(X, y, beta, alpha, niter):\n",
    "    \"\"\"Gradient descent algorihtm.\"\"\"\n",
    "    n, p = X.shape\n",
    "    Xt = X.T\n",
    "    for i in range(niter):\n",
    "        y_pred = X @ beta\n",
    "        epsilon = y - y_pred\n",
    "        grad = Xt @ epsilon\n",
    "        beta = np.add(beta, alpha * grad)\n",
    "    return beta"
   ]
  },
  {
   "cell_type": "code",
   "execution_count": 45,
   "metadata": {},
   "outputs": [],
   "source": [
    "@jit\n",
    "def gd_numba(X, y, beta, alpha, niter):\n",
    "    \"\"\"Gradient descent algorihtm.\"\"\"\n",
    "    n, p = X.shape\n",
    "    Xt = X.T\n",
    "    for i in range(niter):\n",
    "        y_pred = X @ beta\n",
    "        epsilon = y - y_pred\n",
    "        grad = Xt @ epsilon\n",
    "        beta += alpha * grad\n",
    "    return beta"
   ]
  },
  {
   "cell_type": "code",
   "execution_count": 46,
   "metadata": {},
   "outputs": [],
   "source": [
    "X = np.vstack([np.ones_like(x), x, x**2, x**3]).T\n",
    "y = y.reshape(-1, 1)\n",
    "beta = np.array([[1], [10], [1], [1]], dtype = 'float64')\n",
    "α = float(1e-5)\n",
    "niter = int(1e6)"
   ]
  },
  {
   "cell_type": "code",
   "execution_count": 47,
   "metadata": {},
   "outputs": [
    {
     "data": {
      "text/plain": [
       "True"
      ]
     },
     "execution_count": 47,
     "metadata": {},
     "output_type": "execute_result"
    }
   ],
   "source": [
    "np.allclose(gd(X, y, beta, α, niter), gd_numba(X, y, beta, α, niter))"
   ]
  },
  {
   "cell_type": "code",
   "execution_count": 48,
   "metadata": {},
   "outputs": [
    {
     "name": "stdout",
     "output_type": "stream",
     "text": [
      "3.61 s ± 19.4 ms per loop (mean ± std. dev. of 7 runs, 1 loop each)\n"
     ]
    }
   ],
   "source": [
    "%%timeit\n",
    "gd(X, y, beta, α, niter)"
   ]
  },
  {
   "cell_type": "code",
   "execution_count": 49,
   "metadata": {},
   "outputs": [
    {
     "name": "stdout",
     "output_type": "stream",
     "text": [
      "658 ms ± 3.63 ms per loop (mean ± std. dev. of 7 runs, 1 loop each)\n"
     ]
    }
   ],
   "source": [
    "%%timeit\n",
    "gd_numba(X, y, beta, α, niter)"
   ]
  },
  {
   "cell_type": "code",
   "execution_count": 50,
   "metadata": {},
   "outputs": [],
   "source": [
    "t1 = timeit.timeit(lambda : gd(X, y, beta, α, niter), number = 1)"
   ]
  },
  {
   "cell_type": "code",
   "execution_count": 51,
   "metadata": {},
   "outputs": [],
   "source": [
    "t2 = timeit.timeit(lambda : gd_numba(X, y, beta, α, niter), number = 1)"
   ]
  },
  {
   "cell_type": "markdown",
   "metadata": {},
   "source": [
    "The fold change is:"
   ]
  },
  {
   "cell_type": "code",
   "execution_count": 52,
   "metadata": {},
   "outputs": [
    {
     "data": {
      "text/plain": [
       "5.568519208762586"
      ]
     },
     "execution_count": 52,
     "metadata": {},
     "output_type": "execute_result"
    }
   ],
   "source": [
    "t1/t2"
   ]
  },
  {
   "cell_type": "markdown",
   "metadata": {},
   "source": [
    "The JIT compiled version of the gradient descent function is much faster than the normal one."
   ]
  },
  {
   "cell_type": "code",
   "execution_count": 53,
   "metadata": {},
   "outputs": [],
   "source": [
    "β = gd_numba(X, y, beta, α, niter)\n",
    "xs = np.linspace(-1, 10)\n",
    "ys = np.vstack([np.ones_like(xs), xs, xs**2, xs**3]).T @ β"
   ]
  },
  {
   "cell_type": "code",
   "execution_count": 54,
   "metadata": {},
   "outputs": [
    {
     "data": {
      "image/png": "[encoded data removed]",
      "text/plain": [
       "<Figure size 432x288 with 1 Axes>"
      ]
     },
     "metadata": {},
     "output_type": "display_data"
    }
   ],
   "source": [
    "plt.scatter(x, y)\n",
    "plt.plot(xs, ys, 'r--');"
   ]
  }
 ],
 "metadata": {
  "kernelspec": {
   "display_name": "Python 3",
   "language": "python",
   "name": "python3"
  },
  "language_info": {
   "codemirror_mode": {
    "name": "ipython",
    "version": 3
   },
   "file_extension": ".py",
   "mimetype": "text/x-python",
   "name": "python",
   "nbconvert_exporter": "python",
   "pygments_lexer": "ipython3",
   "version": "3.5.4"
  }
 },
 "nbformat": 4,
 "nbformat_minor": 2
}
