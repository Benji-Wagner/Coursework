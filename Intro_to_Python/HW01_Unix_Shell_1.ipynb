{
 "cells": [
  {
   "cell_type": "markdown",
   "metadata": {},
   "source": [
    "# Working with the Unix Shell 1"
   ]
  },
  {
   "cell_type": "markdown",
   "metadata": {},
   "source": [
    "**Exercise 0**. (20 points)\n",
    "\n",
    "- Start the [Vim tutorial](http://www.openvim.com)\n",
    "- Start `emacs` and enter `C-h t` to start the tutorial.\n",
    "\n",
    "When you have completed each tutorial, declare \"I have completed the (vi|emacs) tutorial below\" for 10 points each."
   ]
  },
  {
   "cell_type": "markdown",
   "metadata": {
    "collapsed": true
   },
   "source": [
    "I have completed the (vi|emacs) tutorial below"
   ]
  },
  {
   "cell_type": "markdown",
   "metadata": {},
   "source": [
    "**Exercise 1**. List the folders and files in your home directory, including hidden files. (5 points)"
   ]
  },
  {
   "cell_type": "code",
   "execution_count": 3,
   "metadata": {
    "collapsed": false
   },
   "outputs": [
    {
     "name": "stdout",
     "output_type": "stream",
     "text": [
      ".\n",
      "..\n",
      "average.sh\n",
      ".average.sh.swp\n",
      ".bar.txt.swo\n",
      ".bar.txt.swp\n",
      "bokeh-notebooks\n",
      "foo.txt\n",
      "ggplot-python.ipynb\n",
      "HW01_Unix_Shell_1.ipynb\n",
      ".ipynb_checkpoints\n",
      "iris24.csv\n",
      "iris.csv\n",
      "iris.data\n",
      "mysql-savefile.ipynb\n",
      "noise.py\n",
      "python-matplotlib.ipynb\n",
      "r-demo.ipynb\n",
      "restore-my-notebook.ipynb\n",
      ".swp\n",
      ".templates\n",
      "test2.txt\n",
      "test.txt\n"
     ]
    }
   ],
   "source": [
    "%%bash\n",
    "\n",
    "ls -a"
   ]
  },
  {
   "cell_type": "markdown",
   "metadata": {},
   "source": [
    "**Exercise 2.1**. Create the following empty file: `~/turtle/turtle/turrtle/all_the_way_down.txt` (5 points)"
   ]
  },
  {
   "cell_type": "code",
   "execution_count": 9,
   "metadata": {
    "collapsed": false
   },
   "outputs": [],
   "source": [
    "mkdir -p turtle/turtle/turrtle && touch turtle/turtle/turrtle/all_the_way_down.txt"
   ]
  },
  {
   "cell_type": "markdown",
   "metadata": {},
   "source": [
    "**Exercise 2.2**. Using only Unix shell commands, put the following text into the empty file created in Exercise 2.1 (5 points)\n",
    "\n",
    "```\n",
    "One, two,\n",
    "Buckle my shoe;\n",
    "Three, four,\n",
    "Knock at the door;\n",
    "Five, six,\n",
    "Pick up sticks;\n",
    "Seven, eight,\n",
    "Lay them straight:\n",
    "Nine, ten,\n",
    "A big fat hen;\n",
    "```\n",
    "\n",
    "[Source](https://en.wikipedia.org/wiki/One,_Two,_Buckle_My_Shoe)"
   ]
  },
  {
   "cell_type": "code",
   "execution_count": 73,
   "metadata": {
    "collapsed": false
   },
   "outputs": [],
   "source": [
    "%%bash\n",
    "cd turtle/turtle/turrtle &&\n",
    "echo \"One, two,\n",
    "Buckle my shoe;\n",
    "Three, four,\n",
    "Knock at the door;\n",
    "Five, six,\n",
    "Pick up sticks;\n",
    "Seven, eight,\n",
    "Lay them straight:\n",
    "Nine, ten,\n",
    "A big fat hen;\" > all_the_way_down.txt"
   ]
  },
  {
   "cell_type": "markdown",
   "metadata": {},
   "source": [
    "**Exercise 2.3**: Append the following lines to the same file. (5 points)\n",
    "\n",
    "```\n",
    "Eleven, twelve,\n",
    "Dig and delve;\n",
    "Thirteen, fourteen,\n",
    "Maids a-courting;\n",
    "Fifteen, sixteen,\n",
    "Maids in the kitchen;\n",
    "Seventeen, eighteen,\n",
    "Maids in waiting\n",
    "Nineteen, twenty,\n",
    "My plate's empty.\n",
    "```"
   ]
  },
  {
   "cell_type": "code",
   "execution_count": 74,
   "metadata": {
    "collapsed": false
   },
   "outputs": [],
   "source": [
    "%%bash \n",
    "cd turtle/turtle/turrtle &&\n",
    "echo \"Eleven, twelve,\n",
    "Dig and delve;\n",
    "Thirteen, fourteen,\n",
    "Maids a-courting;\n",
    "Fifteen, sixteen,\n",
    "Maids in the kitchen;\n",
    "Seventeen, eighteen,\n",
    "Maids in waiting\n",
    "Nineteen, twenty,\n",
    "My plate's empty.\" >> all_the_way_down.txt"
   ]
  },
  {
   "cell_type": "markdown",
   "metadata": {},
   "source": [
    "**Exercise 2.4**. Print ONLY the date and time the file `~/turtle/turtle/turrtle/all_the_way_down.txt` was last modified. (10 points)"
   ]
  },
  {
   "cell_type": "code",
   "execution_count": 4,
   "metadata": {
    "collapsed": false
   },
   "outputs": [
    {
     "name": "stdout",
     "output_type": "stream",
     "text": [
      "2017-08-30 20:51:37.111398882 +0000\n"
     ]
    }
   ],
   "source": [
    "%%bash\n",
    "stat -c '%y' turtle/turtle/turrtle/all_the_way_down.txt"
   ]
  },
  {
   "cell_type": "markdown",
   "metadata": {},
   "source": [
    "**Exercise 2.5**. Replace all occurrences of the lower case vowels \"aeiou\" in `~/turtle/turtle/turrtle/all_the_way_down.txt` with the equivalent upper case vowel. (10 points)"
   ]
  },
  {
   "cell_type": "code",
   "execution_count": 2,
   "metadata": {
    "collapsed": false
   },
   "outputs": [
    {
     "name": "stdout",
     "output_type": "stream",
     "text": [
      "OnE, twO,\n",
      "BUcklE my shOE;\n",
      "ThrEE, fOUr,\n",
      "KnOck At thE dOOr;\n",
      "FIvE, sIx,\n",
      "PIck Up stIcks;\n",
      "SEvEn, EIght,\n",
      "LAy thEm strAIght:\n",
      "NInE, tEn,\n",
      "A bIg fAt hEn;\n",
      "ElEvEn, twElvE,\n",
      "DIg And dElvE;\n",
      "ThIrtEEn, fOUrtEEn,\n",
      "MAIds A-cOUrtIng;\n",
      "FIftEEn, sIxtEEn,\n",
      "MAIds In thE kItchEn;\n",
      "SEvEntEEn, EIghtEEn,\n",
      "MAIds In wAItIng\n",
      "NInEtEEn, twEnty,\n",
      "My plAtE's Empty.\n"
     ]
    }
   ],
   "source": [
    "%%bash\n",
    "sed -e \"s/a/A/g\" -e \"s/e/E/g\" -e \"s/i/I/g\" -e \"s/o/O/g\" -e \"s/u/U/g\" turtle/turtle/turrtle/all_the_way_down.txt"
   ]
  },
  {
   "cell_type": "markdown",
   "metadata": {},
   "source": [
    "**Exercise 2.6**. Delete the directory `~/turtle` and all its sub-directories and files. (5 points)"
   ]
  },
  {
   "cell_type": "code",
   "execution_count": 10,
   "metadata": {
    "collapsed": false
   },
   "outputs": [],
   "source": [
    "rm -r turtle/"
   ]
  },
  {
   "cell_type": "markdown",
   "metadata": {
    "collapsed": true
   },
   "source": [
    "**Exercise 3**. Find all files in the current directory with the word \"buckle\" (case insensitive) and print their names. (5 points)"
   ]
  },
  {
   "cell_type": "code",
   "execution_count": 61,
   "metadata": {
    "collapsed": false
   },
   "outputs": [
    {
     "name": "stdout",
     "output_type": "stream",
     "text": [
      "HW01_Unix_Shell_1.ipynb\n",
      "test2.txt\n",
      "test.txt\n"
     ]
    },
    {
     "name": "stderr",
     "output_type": "stream",
     "text": [
      "grep: bokeh-notebooks: Is a directory\n",
      "grep: .: Is a directory\n"
     ]
    }
   ],
   "source": [
    "%%bash\n",
    "\n",
    "grep -li 'buckle' * ."
   ]
  },
  {
   "cell_type": "markdown",
   "metadata": {},
   "source": [
    "**Exercise 4**. Download the following file `https://archive.ics.uci.edu/ml/machine-learning-databases/iris/iris.data` into a file `iris.csv'. Create a new file `iris24.csv` containing just columsn 2 and 4 of `iris.csv`. (10 points)"
   ]
  },
  {
   "cell_type": "code",
   "execution_count": 26,
   "metadata": {
    "collapsed": false
   },
   "outputs": [],
   "source": [
    "%%bash\n",
    "wget -o iris.csv 'https://archive.ics.uci.edu/ml/machine-learning-databases/iris/iris.data'\n",
    "touch iris24.csv\n",
    "awk -F, '{OFS=\",\";print $2,$4}' iris.data > iris24.csv\n",
    "sed -i '/^$/d' iris.data  #removes any blank lines from data; this is important for Exercise 5"
   ]
  },
  {
   "cell_type": "markdown",
   "metadata": {},
   "source": [
    "**Exercise 5**. Using `emasc` or `vi` (we trust your honesty not to use any other editor), write a bash shell script that finds the average of all numbers in a file that has only 1 column of numbers. Using the script, find the average of the 3rd column of `iris.csv`. (20 points)"
   ]
  },
  {
   "cell_type": "code",
   "execution_count": 32,
   "metadata": {
    "collapsed": false
   },
   "outputs": [
    {
     "name": "stdout",
     "output_type": "stream",
     "text": [
      "The average is:  3.75867\n",
      "#!/bin/bash\n",
      "# This is a script for finding the average of a column of numbers\n",
      "# This script assumes that ,'s are the column delimiters, but you can change as needed\n",
      "# This script also assumes we're using column 3, but that can be changed as well\n",
      "# If I was more experienced with bash, I'd add functionality so that the user can call it\n",
      "# and specificy the file name, the column desired, and the type of delimiter.\n",
      "\n",
      "echo \"The average is: \" $(awk -F ',' '{sum += $3} END {print sum / NR}' iris.data)\n"
     ]
    }
   ],
   "source": [
    "%%bash\n",
    "bash average.sh\n",
    "\n",
    "cat average.sh"
   ]
  },
  {
   "cell_type": "markdown",
   "metadata": {
    "collapsed": true
   },
   "source": [
    "**Extra Exercise** Use a regular expression in a loop to match 'abc-123-XYZ' and 'uvwxyz-6789-ABCDEFG' but not 'abc-67.28-XYZ' or 'ABC-123-XYZ' or abc-123- (10 points)"
   ]
  },
  {
   "cell_type": "code",
   "execution_count": 5,
   "metadata": {
    "collapsed": false
   },
   "outputs": [
    {
     "name": "stdout",
     "output_type": "stream",
     "text": [
      "abc-123-XYZ\n",
      "uvwxyz-6789-ABCDEFG\n"
     ]
    }
   ],
   "source": [
    "%%bash\n",
    "\n",
    "list=(\"abc-123-XYZ\" \"uvwxyz-6789-ABCDEFG\" \"abc-67.28-XYZ\" \"ABC-123-XYZ\" \"abc-123-\")\n",
    "for string in ${list[@]}\n",
    "do\n",
    "    echo $string | grep -E \"[a-z]+-[0-9]+-[A-Z]+\"\n",
    "done"
   ]
  },
  {
   "cell_type": "code",
   "execution_count": null,
   "metadata": {
    "collapsed": true
   },
   "outputs": [],
   "source": []
  }
 ],
 "metadata": {
  "kernelspec": {
   "display_name": "Python 2",
   "language": "python",
   "name": "python2"
  },
  "language_info": {
   "codemirror_mode": {
    "name": "ipython",
    "version": 2
   },
   "file_extension": ".py",
   "mimetype": "text/x-python",
   "name": "python",
   "nbconvert_exporter": "python",
   "pygments_lexer": "ipython2",
   "version": "2.7.13"
  }
 },
 "nbformat": 4,
 "nbformat_minor": 2
}
