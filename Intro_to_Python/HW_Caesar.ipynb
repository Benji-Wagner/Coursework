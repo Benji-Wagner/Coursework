{
 "cells": [
  {
   "cell_type": "markdown",
   "metadata": {},
   "source": [
    "**Q1**. Ciphers and Statistics\n",
    "\n",
    "A Caesar cipher is a very simple method of encoding and decoding data. The cipher simply replaces characters with the character offset by $k$ places. For example, if the offset is 3, we replace `a` with `d`, `b` with `e` etc. The cipher wraps around so we replace `y` with `b`, `z` with `c` and so on. Punctuation, spaces and numbers are left unchanged."
   ]
  },
  {
   "cell_type": "markdown",
   "metadata": {},
   "source": [
    "- (25 points) Write a function `encode` that takes as arguments a string and an integer offset and returns the encoded cipher."
   ]
  },
  {
   "cell_type": "code",
   "execution_count": 2,
   "metadata": {
    "collapsed": false
   },
   "outputs": [],
   "source": [
    "import string\n",
    "def encode (toBeEncoded, offset):\n",
    "    offset = offset % 26\n",
    "    lc = string.ascii_lowercase\n",
    "    uc = string.ascii_uppercase\n",
    "    table = str.maketrans(lc + uc, lc[offset:] + lc[:offset] + uc[offset:] + uc[:offset])\n",
    "    return toBeEncoded.translate(table)"
   ]
  },
  {
   "cell_type": "code",
   "execution_count": 36,
   "metadata": {
    "collapsed": false
   },
   "outputs": [
    {
     "data": {
      "text/plain": [
       "'jgnnq yqtnfb'"
      ]
     },
     "execution_count": 36,
     "metadata": {},
     "output_type": "execute_result"
    }
   ],
   "source": [
    "encode (\"hello worldz\", 2)"
   ]
  },
  {
   "cell_type": "markdown",
   "metadata": {},
   "source": [
    "- (5 points) Write a function `decode` that takes as arguments a cipher and an integer offset and returns the decoded string. "
   ]
  },
  {
   "cell_type": "code",
   "execution_count": 4,
   "metadata": {
    "collapsed": true
   },
   "outputs": [],
   "source": [
    "def decode (toBeDecoded, offset):\n",
    "    offset = offset % 26\n",
    "    lc = string.ascii_lowercase\n",
    "    uc = string.ascii_uppercase\n",
    "    table = str.maketrans(lc[offset:] + lc[:offset] + uc[offset:] + uc[:offset], lc + uc)\n",
    "    return toBeDecoded.translate(table)"
   ]
  },
  {
   "cell_type": "code",
   "execution_count": 5,
   "metadata": {
    "collapsed": false
   },
   "outputs": [
    {
     "data": {
      "text/plain": [
       "'hello worldz'"
      ]
     },
     "execution_count": 5,
     "metadata": {},
     "output_type": "execute_result"
    }
   ],
   "source": [
    "decode ('jgnnq yqtnfb', 2)"
   ]
  },
  {
   "cell_type": "markdown",
   "metadata": {},
   "source": [
    "- (50 points) Write a function `auto_decode` that takes as argument a cipher and uses a statistical method to guess the optimal offset to decode the cipher, assuming the original string is in English which has the following letter frequency:\n",
    "\n",
    "```python\n",
    "freq = {\n",
    " 'a': 0.08167,\n",
    " 'b': 0.01492,\n",
    " 'c': 0.02782,\n",
    " 'd': 0.04253,\n",
    " 'e': 0.12702,\n",
    " 'f': 0.02228,\n",
    " 'g': 0.02015,\n",
    " 'h': 0.06094,\n",
    " 'i': 0.06966,\n",
    " 'j': 0.00153,\n",
    " 'k': 0.00772,\n",
    " 'l': 0.04025,\n",
    " 'm': 0.02406,\n",
    " 'n': 0.06749,\n",
    " 'o': 0.07507,\n",
    " 'p': 0.01929,\n",
    " 'q': 0.00095,\n",
    " 'r': 0.05987,\n",
    " 's': 0.06327,\n",
    " 't': 0.09056,\n",
    " 'u': 0.02758,\n",
    " 'v': 0.00978,\n",
    " 'w': 0.0236,\n",
    " 'x': 0.0015,\n",
    " 'y': 0.01974,\n",
    " 'z': 0.00074\n",
    "}\n",
    "```"
   ]
  },
  {
   "cell_type": "code",
   "execution_count": 6,
   "metadata": {
    "collapsed": false
   },
   "outputs": [],
   "source": [
    "def count_letters(myString):\n",
    "    \"\"\"count_letters is a method thattakes a string argument and counts the letters in a string and excludes punctuation\"\"\"\n",
    "    \n",
    "    return len(myString) - myString.count(' ') - myString.count('!') - myString.count('-') - myString.count('.') \\\n",
    "- myString.count('?')- myString.count('\\n') - myString.count(',') - myString.count(';') - myString.count(':')"
   ]
  },
  {
   "cell_type": "code",
   "execution_count": 7,
   "metadata": {
    "collapsed": true
   },
   "outputs": [],
   "source": [
    "def find_ratio(char, myString):\n",
    "    \"\"\"find_ratio will find the ratio of a particular character to the total number of letters in a string\"\"\"\n",
    "    \n",
    "    totalLetterCount = count_letters(myString)\n",
    "    myString = myString.lower()\n",
    "    charCount = myString.count(char)\n",
    "    ratio = charCount/totalLetterCount\n",
    "    return ratio"
   ]
  },
  {
   "cell_type": "code",
   "execution_count": 8,
   "metadata": {
    "collapsed": false
   },
   "outputs": [],
   "source": [
    "def ratio_list(myString):\n",
    "    \"\"\"ratio_list will provide the the ratio of every character to a given string\"\"\"\n",
    "    \n",
    "    frequencies = []\n",
    "    for char in string.ascii_lowercase:\n",
    "        frequencies.append(find_ratio(char, myString))\n",
    "    return frequencies"
   ]
  },
  {
   "cell_type": "code",
   "execution_count": 59,
   "metadata": {
    "collapsed": false
   },
   "outputs": [],
   "source": [
    "def offset_score(listOfFrequencies):\n",
    "    \"\"\"offset_score takes a list of character frequencies and uses a least square regression to return a \n",
    "    list of scores. This list of scores is basically the error rate between the frequency table from the English dictionary\n",
    "    and the distribution of letters in a string. Note that a score of approximately 0 indicates a distribution similar to \n",
    "    the frequency table below.\"\"\"\n",
    "    freq = {\n",
    " 'a': 0.08167,\n",
    " 'b': 0.01492,\n",
    " 'c': 0.02782,\n",
    " 'd': 0.04253,\n",
    " 'e': 0.12702,\n",
    " 'f': 0.02228,\n",
    " 'g': 0.02015,\n",
    " 'h': 0.06094,\n",
    " 'i': 0.06966,\n",
    " 'j': 0.00153,\n",
    " 'k': 0.00772,\n",
    " 'l': 0.04025,\n",
    " 'm': 0.02406,\n",
    " 'n': 0.06749,\n",
    " 'o': 0.07507,\n",
    " 'p': 0.01929,\n",
    " 'q': 0.00095,\n",
    " 'r': 0.05987,\n",
    " 's': 0.06327,\n",
    " 't': 0.09056,\n",
    " 'u': 0.02758,\n",
    " 'v': 0.00978,\n",
    " 'w': 0.0236,\n",
    " 'x': 0.0015,\n",
    " 'y': 0.01974,\n",
    " 'z': 0.00074\n",
    "}\n",
    "    freqList=[freq[x] for x in string.ascii_lowercase]\n",
    "    listOfScores = []\n",
    "    for i in range(26):\n",
    "        listOfScores.append((listOfFrequencies[i] - freqList[i])**2)\n",
    "        \n",
    "    return listOfScores"
   ]
  },
  {
   "cell_type": "code",
   "execution_count": 83,
   "metadata": {
    "collapsed": false
   },
   "outputs": [],
   "source": [
    "import math\n",
    "def best_offset(myString):\n",
    "    \"\"\"best_offset takes a string argument and calls the offset_score function to obtain a list of scores\n",
    "    for each individual offset. Thus, there should be a list of 26 scores--one for every possible offset.\n",
    "    Returns the optimal offset key.\"\"\"\n",
    "    \n",
    "    offsetScoreList = []\n",
    "    for i in range(26):\n",
    "        offsetString = decode(myString, i)\n",
    "        individualScore = math.fsum(offset_score(ratio_list(offsetString)))\n",
    "        offsetScoreList.append(individualScore)\n",
    "    \n",
    "    return offsetScoreList.index(min(offsetScoreList))"
   ]
  },
  {
   "cell_type": "code",
   "execution_count": 94,
   "metadata": {
    "collapsed": false
   },
   "outputs": [],
   "source": [
    "def auto_decode(encryptedString):\n",
    "    \"\"\"auto_decode takes a string argument and decrypts it based on a sum of least squares method with a frequency table \n",
    "    based on the English language\"\"\"\n",
    "    \n",
    "    print(decode(encryptedString, best_offset(encryptedString)))\n",
    "    "
   ]
  },
  {
   "cell_type": "markdown",
   "metadata": {},
   "source": [
    "- (20 points) Encode the following nursery rhyme using a random offset from 10 to 20, then recover the original using `auto_decode`:\n",
    "\n",
    "```text\n",
    "Baa, baa, black sheep,\n",
    "Have you any wool?\n",
    "Yes, sir, yes, sir,\n",
    "Three bags full;\n",
    "One for the master,\n",
    "And one for the dame,\n",
    "And one for the little boy\n",
    "Who lives down the lane.\n",
    "```"
   ]
  },
  {
   "cell_type": "code",
   "execution_count": 98,
   "metadata": {
    "collapsed": false
   },
   "outputs": [
    {
     "name": "stdout",
     "output_type": "stream",
     "text": [
      "Encrypted message:\n",
      " Utt, utt, uetvd laxxi,\n",
      "Atox rhn tgr phhe?\n",
      "Rxl, lbk, rxl, lbk,\n",
      "Makxx utzl ynee;\n",
      "Hgx yhk max ftlmxk,\n",
      "Tgw hgx yhk max wtfx,\n",
      "Tgw hgx yhk max ebmmex uhr\n",
      "Pah eboxl whpg max etgx. \n",
      "\n",
      "Decrypted message:\n",
      "Baa, baa, black sheep,\n",
      "Have you any wool?\n",
      "Yes, sir, yes, sir,\n",
      "Three bags full;\n",
      "One for the master,\n",
      "And one for the dame,\n",
      "And one for the little boy\n",
      "Who lives down the lane.\n"
     ]
    }
   ],
   "source": [
    "plsEncode = \"\"\"Baa, baa, black sheep,\n",
    "Have you any wool?\n",
    "Yes, sir, yes, sir,\n",
    "Three bags full;\n",
    "One for the master,\n",
    "And one for the dame,\n",
    "And one for the little boy\n",
    "Who lives down the lane.\"\"\"\n",
    "message = encode(plsEncode, 19)\n",
    "print(\"Encrypted message:\\n\", message, \"\\n\\nDecrypted message:\")\n",
    "auto_decode(message)"
   ]
  }
 ],
 "metadata": {
  "kernelspec": {
   "display_name": "Python 3",
   "language": "python",
   "name": "python3"
  },
  "language_info": {
   "codemirror_mode": {
    "name": "ipython",
    "version": 3
   },
   "file_extension": ".py",
   "mimetype": "text/x-python",
   "name": "python",
   "nbconvert_exporter": "python",
   "pygments_lexer": "ipython3",
   "version": "3.5.2"
  }
 },
 "nbformat": 4,
 "nbformat_minor": 2
}
