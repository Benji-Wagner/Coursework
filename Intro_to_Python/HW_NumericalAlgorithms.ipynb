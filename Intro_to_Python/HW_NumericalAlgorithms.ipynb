{
 "cells": [
  {
   "cell_type": "code",
   "execution_count": 1,
   "metadata": {
    "collapsed": true
   },
   "outputs": [],
   "source": [
    "%matplotlib inline"
   ]
  },
  {
   "cell_type": "code",
   "execution_count": 2,
   "metadata": {
    "collapsed": false
   },
   "outputs": [],
   "source": [
    "import numpy as np\n",
    "import matplotlib.pyplot as plt\n",
    "from scipy.stats import norm"
   ]
  },
  {
   "cell_type": "markdown",
   "metadata": {},
   "source": [
    "**Exiercise 1** \n",
    "\n",
    "Simpsons rule is given by the follwoing approximation\n",
    "\n",
    "![Simpsons](https://wikimedia.org/api/rest_v1/media/math/render/svg/a0cdf0804bb8810e4438cbea898dc7a2fedb3e57)\n",
    "\n",
    "- Write Simpsons rule as a function `simpsons(f, a, b, n=100)` where n is the number of equally spaced intervals from `a` to `b`.  (20 points)\n",
    "- Use this function to estimate the probability mass of the standard normal distribution between -1 and 1. (10 points)"
   ]
  },
  {
   "cell_type": "markdown",
   "metadata": {},
   "source": [
    "Note that the approximation is broken down into:\n",
    "1. f(x0) = the function defined at the lower bound of the interval\n",
    "2. f(xn) = the function defined at the upper bound of the interval\n",
    "3. sum(f(x2j)) = the summation of all the even indexes of our list of x's\n",
    "4. sum(f(2j-1)) = the summation of all the odd indexes of our list of x's"
   ]
  },
  {
   "cell_type": "code",
   "execution_count": 3,
   "metadata": {
    "collapsed": false
   },
   "outputs": [],
   "source": [
    "def simpsons(f, a, b, n=100):\n",
    "    \"\"\"simpsons rule approximates a definite integral by splitting up the interval into several smaller intervals\"\"\"\n",
    "    h = (b-a)/(n)\n",
    "    x = np.linspace(a,b,n+1)\n",
    "    return(h/3*(f(a) + 2*f(x[2:-1:2]).sum() + 4*f(x[1:-1:2]).sum() + f(b)))"
   ]
  },
  {
   "cell_type": "code",
   "execution_count": 16,
   "metadata": {
    "collapsed": false
   },
   "outputs": [
    {
     "name": "stdout",
     "output_type": "stream",
     "text": [
      "The estimated probability mass of the standard normal distribution from [-1,1] is: 0.682689492998\n"
     ]
    }
   ],
   "source": [
    "print(\"The estimated probability mass of the standard normal distribution from [-1,1] is:\",simpsons(norm.pdf,-1,1,n=100))"
   ]
  },
  {
   "cell_type": "markdown",
   "metadata": {},
   "source": [
    "**Exercise 2**\n",
    "\n",
    "- Implement a gradient descent algorithm to find the minimum of a function. The gradient descent algorithm starts with some given starting point $x_0$, then updates \n",
    "\n",
    "$$\n",
    "x_{k+1} = x_k - \\alpha \\nabla f(x_k)\n",
    "$$\n",
    "\n",
    "where $\\nabla f_{x_k}$ is the gradient of $f$ ad $x_{k}$ and $\\alpha$ is a parameter known as the learning rate. Write a function `gd1(x0, f, fprime, alpha=0.0002, tol=1e-6, max_iter=10000)` that stops when the norm of the step $x_{k+1} - x_k$ less than `tol` or the number of iterations exceeds `max_iter`. The function should return the value of $x_k$ in a list or array. (30 points)\n",
    "\n",
    "Given\n",
    "```python\n",
    "def f(x):\n",
    "    \"\"\"Function to minimize.\"\"\"\n",
    "    return (1 - x[0])**2 + 100*(x[1] - x[0]**2)**2\n",
    "```\n",
    "\n",
    "- Use the `gd1` function to find the minimum value of the function `f` given starting at $x_0 = (4,-4)$ (5 points)\n",
    "- Make a contour plot of the function and plot the path taken by $x_k$ on the plot. (15 points)\n",
    "\n",
    "There have been many attempts to improve gradient descent, which is widely used in machine learning. One idea is to add momentum $\\nu$ to the update step\n",
    "\n",
    "$$\\nu_{k+1} = \\gamma \\nu{k} + \\alpha \\nabla f(x_k - \\gamma \\nu_k) \n",
    "$$ \n",
    "\n",
    "$$\n",
    "x_{k+1} = x_{k} - \\nu_{k+1}\n",
    "$$\n",
    "\n",
    "- Implement `gd2(x0, f, fprime, alpha=0.001, gamma=0.9, tol=1e-6, max_iter=10000)` with the momentum update. (15 points)\n",
    "- Compare the end-point reached by `gd1` and `gd2` for the function `f`  starting at $x_0 = (4,-4)$. Which is closer to the true minimum (i.e. the function value at $x$ is close to the true minimum). (5 points)\n",
    "\n",
    "This function has a minimum value of 0 at the point (1,1)."
   ]
  },
  {
   "cell_type": "code",
   "execution_count": 6,
   "metadata": {
    "collapsed": true
   },
   "outputs": [],
   "source": [
    "def f(x):\n",
    "    \"\"\"Function to minimize.\"\"\"\n",
    "    return (1 - x[0])**2 + 100*(x[1] - x[0]**2)**2"
   ]
  },
  {
   "cell_type": "code",
   "execution_count": 7,
   "metadata": {
    "collapsed": false
   },
   "outputs": [],
   "source": [
    "def gradient(f, x, dx = 10**(-10)):\n",
    "    \"\"\"gradient computationally approximates a bivariate function's derivative\"\"\"\n",
    "    dfx = (f([x[0] + dx, x[1]]) - f(x))/dx\n",
    "    dfy = (f([x[0], x[1] + dx]) - f(x))/dx\n",
    "    return np.array([dfx, dfy])"
   ]
  },
  {
   "cell_type": "code",
   "execution_count": 8,
   "metadata": {
    "collapsed": false
   },
   "outputs": [],
   "source": [
    " def gd1(x0, f, fprime, alpha=0.0001, tol=1e-6, max_iter=10000):\n",
    "        \"\"\"gd1 is a gradient descent algorithm that takes a function and a starting point, then approximates\n",
    "    the minimum of the function\"\"\"\n",
    "        xk = [x0]\n",
    "        for i in range(max_iter):\n",
    "            xk.append(xk[-1] - alpha*fprime(f,xk[-1]))\n",
    "            if(np.linalg.norm(xk[-1] - xk[-2]) < tol):\n",
    "                return xk\n",
    "        return xk"
   ]
  },
  {
   "cell_type": "code",
   "execution_count": 9,
   "metadata": {
    "collapsed": false
   },
   "outputs": [
    {
     "name": "stdout",
     "output_type": "stream",
     "text": [
      "The final xk values are:  [ 0.6708175   0.44841652]\n"
     ]
    }
   ],
   "source": [
    "xks = gd1(np.array([4,-4]), f, gradient)\n",
    "print(\"The final xk values are: \", xks[-1])"
   ]
  },
  {
   "cell_type": "code",
   "execution_count": 10,
   "metadata": {
    "collapsed": false
   },
   "outputs": [
    {
     "data": {
      "image/png": "[encoded data removed]",
      "text/plain": [
       "<matplotlib.figure.Figure at 0x7f5bdc4016a0>"
      ]
     },
     "metadata": {},
     "output_type": "display_data"
    }
   ],
   "source": [
    "xp = np.linspace(-5,5,100)\n",
    "yp = np.linspace(-5,5,100)\n",
    "X, Y = np.meshgrid(xp, yp)\n",
    "z = f(np.vstack([X.ravel(), Y.ravel()])).reshape(100,100)\n",
    "plt.contourf(X,Y,z, 100);\n",
    "tmp = np.array(xks)\n",
    "plt.plot(tmp[:,0], tmp[:,1], 'o-', color='green');"
   ]
  },
  {
   "cell_type": "code",
   "execution_count": 11,
   "metadata": {
    "collapsed": false
   },
   "outputs": [],
   "source": [
    "def gd2(x0, f, fprime, alpha=0.0001, gamma=0.9, tol=1e-6, max_iter=10000):\n",
    "    \"\"\"gd2 is a gradient descent algorithm that takes a function and a starting point, then approximates\n",
    "    the minimum of the function but uses momentum to hasten the process\"\"\"\n",
    "    xk = [x0]\n",
    "    vk = np.array([0,0])\n",
    "    for i in range(max_iter):\n",
    "        vk = (gamma*vk + alpha*fprime(f,xk[-1] - gamma*vk))\n",
    "        xk.append(xk[-1] - vk)\n",
    "        if(np.linalg.norm(xk[-1] - xk[-2]) < tol):\n",
    "            return xk\n",
    "    return xk"
   ]
  },
  {
   "cell_type": "code",
   "execution_count": 12,
   "metadata": {
    "collapsed": false
   },
   "outputs": [
    {
     "data": {
      "image/png": "[encoded data removed]",
      "text/plain": [
       "<matplotlib.figure.Figure at 0x7f5bd8e53eb8>"
      ]
     },
     "metadata": {},
     "output_type": "display_data"
    }
   ],
   "source": [
    "xks2 = gd2(np.array([4,-4]),f,gradient)\n",
    "tmp2 = np.array(xks2);\n",
    "plt.contourf(X,Y,z, 100);\n",
    "plt.plot(tmp2[:,0], tmp2[:,1], 'o-', color='green');"
   ]
  },
  {
   "cell_type": "code",
   "execution_count": 13,
   "metadata": {
    "collapsed": false
   },
   "outputs": [
    {
     "name": "stdout",
     "output_type": "stream",
     "text": [
      "GD1 End-Point:  [ 0.6708175   0.44841652] \n",
      "GD2 End-Point:   [ 1.09788161  1.20571331]\n"
     ]
    }
   ],
   "source": [
    "print(\"GD1 End-Point: \", xks[-1],\"\\nGD2 End-Point:  \",xks2[-1])"
   ]
  },
  {
   "cell_type": "markdown",
   "metadata": {},
   "source": [
    "Since the minimum of the function is zero at point (1,1), we can see that gd2 got a closer approximation to the correct minimum."
   ]
  }
 ],
 "metadata": {
  "kernelspec": {
   "display_name": "Python 3",
   "language": "python",
   "name": "python3"
  },
  "language_info": {
   "codemirror_mode": {
    "name": "ipython",
    "version": 3
   },
   "file_extension": ".py",
   "mimetype": "text/x-python",
   "name": "python",
   "nbconvert_exporter": "python",
   "pygments_lexer": "ipython3",
   "version": "3.5.2"
  },
  "varInspector": {
   "cols": {
    "lenName": 16,
    "lenType": 16,
    "lenVar": 40
   },
   "kernels_config": {
    "python": {
     "delete_cmd_postfix": "",
     "delete_cmd_prefix": "del ",
     "library": "var_list.py",
     "varRefreshCmd": "print(var_dic_list())"
    },
    "r": {
     "delete_cmd_postfix": ") ",
     "delete_cmd_prefix": "rm(",
     "library": "var_list.r",
     "varRefreshCmd": "cat(var_dic_list()) "
    }
   },
   "types_to_exclude": [
    "module",
    "function",
    "builtin_function_or_method",
    "instance",
    "_Feature"
   ],
   "window_display": false
  }
 },
 "nbformat": 4,
 "nbformat_minor": 2
}
